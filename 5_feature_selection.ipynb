{
 "cells": [
  {
   "cell_type": "code",
   "execution_count": 1,
   "id": "7568e236",
   "metadata": {},
   "outputs": [],
   "source": [
    "import numpy as np\n",
    "import pandas as pd\n",
    "from sklearn.model_selection import train_test_split\n",
    "\n",
    "from feature_engine.selection import DropConstantFeatures, DropDuplicateFeatures\n",
    "from feature_engine.selection import DropCorrelatedFeatures, SmartCorrelatedSelection"
   ]
  },
  {
   "cell_type": "code",
   "execution_count": 2,
   "id": "771dc32b",
   "metadata": {},
   "outputs": [
    {
     "name": "stdout",
     "output_type": "stream",
     "text": [
      "Shape of X Train: (8672, 175)\n",
      "Shape of X Test: (2168, 175)\n",
      "Shape of y Train: (8672, 1)\n",
      "Shape of y Test: (2169, 1)\n"
     ]
    }
   ],
   "source": [
    "X_train = pd.read_csv(\"Xtrain_k_one_hot_scaled.csv\")\n",
    "X_test = pd.read_csv(\"Xtest_k_one_hot_scaled.csv\")\n",
    "ytrain = pd.read_csv(\"ytrain.csv\")\n",
    "ytest = pd.read_csv(\"ytest.csv\")\n",
    "print(\"Shape of X Train: {}\".format(X_train.shape))\n",
    "print(\"Shape of X Test: {}\".format(X_test.shape))\n",
    "print(\"Shape of y Train: {}\".format(ytrain.shape))\n",
    "print(\"Shape of y Test: {}\".format(ytest.shape))"
   ]
  },
  {
   "cell_type": "code",
   "execution_count": 3,
   "id": "8de6c64f",
   "metadata": {},
   "outputs": [
    {
     "data": {
      "text/html": [
       "<div>\n",
       "<style scoped>\n",
       "    .dataframe tbody tr th:only-of-type {\n",
       "        vertical-align: middle;\n",
       "    }\n",
       "\n",
       "    .dataframe tbody tr th {\n",
       "        vertical-align: top;\n",
       "    }\n",
       "\n",
       "    .dataframe thead th {\n",
       "        text-align: right;\n",
       "    }\n",
       "</style>\n",
       "<table border=\"1\" class=\"dataframe\">\n",
       "  <thead>\n",
       "    <tr style=\"text-align: right;\">\n",
       "      <th></th>\n",
       "      <th>Reviews</th>\n",
       "      <th>Rating</th>\n",
       "      <th>days_since_update</th>\n",
       "      <th>Price</th>\n",
       "      <th>Category_TRAVEL_AND_LOCAL</th>\n",
       "      <th>Category_VIDEO_PLAYERS</th>\n",
       "      <th>Category_FINANCE</th>\n",
       "      <th>Category_FAMILY</th>\n",
       "      <th>Category_MEDICAL</th>\n",
       "      <th>Category_GAME</th>\n",
       "      <th>...</th>\n",
       "      <th>Genres_Card;Brain Games</th>\n",
       "      <th>Genres_Communication;Creativity</th>\n",
       "      <th>Genres_Books &amp; Reference;Creativity</th>\n",
       "      <th>Genres_Casual;Education</th>\n",
       "      <th>Genres_Adventure;Brain Games</th>\n",
       "      <th>Genres_Role Playing;Education</th>\n",
       "      <th>Genres_Comics;Creativity</th>\n",
       "      <th>Genres_Lifestyle;Pretend Play</th>\n",
       "      <th>Genres_Role Playing;Brain Games</th>\n",
       "      <th>Genres_Travel &amp; Local;Action &amp; Adventure</th>\n",
       "    </tr>\n",
       "  </thead>\n",
       "  <tbody>\n",
       "    <tr>\n",
       "      <th>0</th>\n",
       "      <td>-0.144827</td>\n",
       "      <td>0.403271</td>\n",
       "      <td>-0.603588</td>\n",
       "      <td>0.0</td>\n",
       "      <td>1</td>\n",
       "      <td>0</td>\n",
       "      <td>0</td>\n",
       "      <td>0</td>\n",
       "      <td>0</td>\n",
       "      <td>0</td>\n",
       "      <td>...</td>\n",
       "      <td>0</td>\n",
       "      <td>0</td>\n",
       "      <td>0</td>\n",
       "      <td>0</td>\n",
       "      <td>0</td>\n",
       "      <td>0</td>\n",
       "      <td>0</td>\n",
       "      <td>0</td>\n",
       "      <td>0</td>\n",
       "      <td>0</td>\n",
       "    </tr>\n",
       "    <tr>\n",
       "      <th>1</th>\n",
       "      <td>-0.150937</td>\n",
       "      <td>-1.053274</td>\n",
       "      <td>0.637297</td>\n",
       "      <td>0.0</td>\n",
       "      <td>0</td>\n",
       "      <td>1</td>\n",
       "      <td>0</td>\n",
       "      <td>0</td>\n",
       "      <td>0</td>\n",
       "      <td>0</td>\n",
       "      <td>...</td>\n",
       "      <td>0</td>\n",
       "      <td>0</td>\n",
       "      <td>0</td>\n",
       "      <td>0</td>\n",
       "      <td>0</td>\n",
       "      <td>0</td>\n",
       "      <td>0</td>\n",
       "      <td>0</td>\n",
       "      <td>0</td>\n",
       "      <td>0</td>\n",
       "    </tr>\n",
       "    <tr>\n",
       "      <th>2</th>\n",
       "      <td>-0.151044</td>\n",
       "      <td>1.651738</td>\n",
       "      <td>3.887354</td>\n",
       "      <td>0.0</td>\n",
       "      <td>0</td>\n",
       "      <td>0</td>\n",
       "      <td>1</td>\n",
       "      <td>0</td>\n",
       "      <td>0</td>\n",
       "      <td>0</td>\n",
       "      <td>...</td>\n",
       "      <td>0</td>\n",
       "      <td>0</td>\n",
       "      <td>0</td>\n",
       "      <td>0</td>\n",
       "      <td>0</td>\n",
       "      <td>0</td>\n",
       "      <td>0</td>\n",
       "      <td>0</td>\n",
       "      <td>0</td>\n",
       "      <td>0</td>\n",
       "    </tr>\n",
       "    <tr>\n",
       "      <th>3</th>\n",
       "      <td>-0.150943</td>\n",
       "      <td>1.027505</td>\n",
       "      <td>-0.613697</td>\n",
       "      <td>0.0</td>\n",
       "      <td>0</td>\n",
       "      <td>0</td>\n",
       "      <td>0</td>\n",
       "      <td>1</td>\n",
       "      <td>0</td>\n",
       "      <td>0</td>\n",
       "      <td>...</td>\n",
       "      <td>0</td>\n",
       "      <td>0</td>\n",
       "      <td>0</td>\n",
       "      <td>0</td>\n",
       "      <td>0</td>\n",
       "      <td>0</td>\n",
       "      <td>0</td>\n",
       "      <td>0</td>\n",
       "      <td>0</td>\n",
       "      <td>0</td>\n",
       "    </tr>\n",
       "    <tr>\n",
       "      <th>4</th>\n",
       "      <td>-0.122954</td>\n",
       "      <td>0.611349</td>\n",
       "      <td>-0.570733</td>\n",
       "      <td>0.0</td>\n",
       "      <td>0</td>\n",
       "      <td>0</td>\n",
       "      <td>1</td>\n",
       "      <td>0</td>\n",
       "      <td>0</td>\n",
       "      <td>0</td>\n",
       "      <td>...</td>\n",
       "      <td>0</td>\n",
       "      <td>0</td>\n",
       "      <td>0</td>\n",
       "      <td>0</td>\n",
       "      <td>0</td>\n",
       "      <td>0</td>\n",
       "      <td>0</td>\n",
       "      <td>0</td>\n",
       "      <td>0</td>\n",
       "      <td>0</td>\n",
       "    </tr>\n",
       "    <tr>\n",
       "      <th>...</th>\n",
       "      <td>...</td>\n",
       "      <td>...</td>\n",
       "      <td>...</td>\n",
       "      <td>...</td>\n",
       "      <td>...</td>\n",
       "      <td>...</td>\n",
       "      <td>...</td>\n",
       "      <td>...</td>\n",
       "      <td>...</td>\n",
       "      <td>...</td>\n",
       "      <td>...</td>\n",
       "      <td>...</td>\n",
       "      <td>...</td>\n",
       "      <td>...</td>\n",
       "      <td>...</td>\n",
       "      <td>...</td>\n",
       "      <td>...</td>\n",
       "      <td>...</td>\n",
       "      <td>...</td>\n",
       "      <td>...</td>\n",
       "      <td>...</td>\n",
       "    </tr>\n",
       "    <tr>\n",
       "      <th>8667</th>\n",
       "      <td>-0.017494</td>\n",
       "      <td>0.611349</td>\n",
       "      <td>-0.633915</td>\n",
       "      <td>0.0</td>\n",
       "      <td>0</td>\n",
       "      <td>0</td>\n",
       "      <td>0</td>\n",
       "      <td>1</td>\n",
       "      <td>0</td>\n",
       "      <td>0</td>\n",
       "      <td>...</td>\n",
       "      <td>0</td>\n",
       "      <td>0</td>\n",
       "      <td>0</td>\n",
       "      <td>0</td>\n",
       "      <td>0</td>\n",
       "      <td>0</td>\n",
       "      <td>0</td>\n",
       "      <td>0</td>\n",
       "      <td>0</td>\n",
       "      <td>0</td>\n",
       "    </tr>\n",
       "    <tr>\n",
       "      <th>8668</th>\n",
       "      <td>-0.141238</td>\n",
       "      <td>-0.220963</td>\n",
       "      <td>0.619606</td>\n",
       "      <td>0.0</td>\n",
       "      <td>0</td>\n",
       "      <td>0</td>\n",
       "      <td>0</td>\n",
       "      <td>0</td>\n",
       "      <td>0</td>\n",
       "      <td>0</td>\n",
       "      <td>...</td>\n",
       "      <td>0</td>\n",
       "      <td>0</td>\n",
       "      <td>0</td>\n",
       "      <td>0</td>\n",
       "      <td>0</td>\n",
       "      <td>0</td>\n",
       "      <td>0</td>\n",
       "      <td>0</td>\n",
       "      <td>0</td>\n",
       "      <td>0</td>\n",
       "    </tr>\n",
       "    <tr>\n",
       "      <th>8669</th>\n",
       "      <td>-0.012583</td>\n",
       "      <td>0.195193</td>\n",
       "      <td>-0.651606</td>\n",
       "      <td>0.0</td>\n",
       "      <td>0</td>\n",
       "      <td>0</td>\n",
       "      <td>0</td>\n",
       "      <td>1</td>\n",
       "      <td>0</td>\n",
       "      <td>0</td>\n",
       "      <td>...</td>\n",
       "      <td>0</td>\n",
       "      <td>0</td>\n",
       "      <td>0</td>\n",
       "      <td>0</td>\n",
       "      <td>0</td>\n",
       "      <td>0</td>\n",
       "      <td>0</td>\n",
       "      <td>0</td>\n",
       "      <td>0</td>\n",
       "      <td>0</td>\n",
       "    </tr>\n",
       "    <tr>\n",
       "      <th>8670</th>\n",
       "      <td>-0.150341</td>\n",
       "      <td>1.027505</td>\n",
       "      <td>-0.454479</td>\n",
       "      <td>0.0</td>\n",
       "      <td>0</td>\n",
       "      <td>0</td>\n",
       "      <td>0</td>\n",
       "      <td>0</td>\n",
       "      <td>0</td>\n",
       "      <td>0</td>\n",
       "      <td>...</td>\n",
       "      <td>0</td>\n",
       "      <td>0</td>\n",
       "      <td>0</td>\n",
       "      <td>0</td>\n",
       "      <td>0</td>\n",
       "      <td>0</td>\n",
       "      <td>0</td>\n",
       "      <td>0</td>\n",
       "      <td>0</td>\n",
       "      <td>0</td>\n",
       "    </tr>\n",
       "    <tr>\n",
       "      <th>8671</th>\n",
       "      <td>0.324947</td>\n",
       "      <td>0.819427</td>\n",
       "      <td>-0.644024</td>\n",
       "      <td>0.0</td>\n",
       "      <td>0</td>\n",
       "      <td>0</td>\n",
       "      <td>0</td>\n",
       "      <td>0</td>\n",
       "      <td>0</td>\n",
       "      <td>0</td>\n",
       "      <td>...</td>\n",
       "      <td>0</td>\n",
       "      <td>0</td>\n",
       "      <td>0</td>\n",
       "      <td>0</td>\n",
       "      <td>0</td>\n",
       "      <td>0</td>\n",
       "      <td>0</td>\n",
       "      <td>0</td>\n",
       "      <td>0</td>\n",
       "      <td>0</td>\n",
       "    </tr>\n",
       "  </tbody>\n",
       "</table>\n",
       "<p>8672 rows × 175 columns</p>\n",
       "</div>"
      ],
      "text/plain": [
       "       Reviews    Rating  days_since_update  Price  Category_TRAVEL_AND_LOCAL  \\\n",
       "0    -0.144827  0.403271          -0.603588    0.0                          1   \n",
       "1    -0.150937 -1.053274           0.637297    0.0                          0   \n",
       "2    -0.151044  1.651738           3.887354    0.0                          0   \n",
       "3    -0.150943  1.027505          -0.613697    0.0                          0   \n",
       "4    -0.122954  0.611349          -0.570733    0.0                          0   \n",
       "...        ...       ...                ...    ...                        ...   \n",
       "8667 -0.017494  0.611349          -0.633915    0.0                          0   \n",
       "8668 -0.141238 -0.220963           0.619606    0.0                          0   \n",
       "8669 -0.012583  0.195193          -0.651606    0.0                          0   \n",
       "8670 -0.150341  1.027505          -0.454479    0.0                          0   \n",
       "8671  0.324947  0.819427          -0.644024    0.0                          0   \n",
       "\n",
       "      Category_VIDEO_PLAYERS  Category_FINANCE  Category_FAMILY  \\\n",
       "0                          0                 0                0   \n",
       "1                          1                 0                0   \n",
       "2                          0                 1                0   \n",
       "3                          0                 0                1   \n",
       "4                          0                 1                0   \n",
       "...                      ...               ...              ...   \n",
       "8667                       0                 0                1   \n",
       "8668                       0                 0                0   \n",
       "8669                       0                 0                1   \n",
       "8670                       0                 0                0   \n",
       "8671                       0                 0                0   \n",
       "\n",
       "      Category_MEDICAL  Category_GAME  ...  Genres_Card;Brain Games  \\\n",
       "0                    0              0  ...                        0   \n",
       "1                    0              0  ...                        0   \n",
       "2                    0              0  ...                        0   \n",
       "3                    0              0  ...                        0   \n",
       "4                    0              0  ...                        0   \n",
       "...                ...            ...  ...                      ...   \n",
       "8667                 0              0  ...                        0   \n",
       "8668                 0              0  ...                        0   \n",
       "8669                 0              0  ...                        0   \n",
       "8670                 0              0  ...                        0   \n",
       "8671                 0              0  ...                        0   \n",
       "\n",
       "      Genres_Communication;Creativity  Genres_Books & Reference;Creativity  \\\n",
       "0                                   0                                    0   \n",
       "1                                   0                                    0   \n",
       "2                                   0                                    0   \n",
       "3                                   0                                    0   \n",
       "4                                   0                                    0   \n",
       "...                               ...                                  ...   \n",
       "8667                                0                                    0   \n",
       "8668                                0                                    0   \n",
       "8669                                0                                    0   \n",
       "8670                                0                                    0   \n",
       "8671                                0                                    0   \n",
       "\n",
       "      Genres_Casual;Education  Genres_Adventure;Brain Games  \\\n",
       "0                           0                             0   \n",
       "1                           0                             0   \n",
       "2                           0                             0   \n",
       "3                           0                             0   \n",
       "4                           0                             0   \n",
       "...                       ...                           ...   \n",
       "8667                        0                             0   \n",
       "8668                        0                             0   \n",
       "8669                        0                             0   \n",
       "8670                        0                             0   \n",
       "8671                        0                             0   \n",
       "\n",
       "      Genres_Role Playing;Education  Genres_Comics;Creativity  \\\n",
       "0                                 0                         0   \n",
       "1                                 0                         0   \n",
       "2                                 0                         0   \n",
       "3                                 0                         0   \n",
       "4                                 0                         0   \n",
       "...                             ...                       ...   \n",
       "8667                              0                         0   \n",
       "8668                              0                         0   \n",
       "8669                              0                         0   \n",
       "8670                              0                         0   \n",
       "8671                              0                         0   \n",
       "\n",
       "      Genres_Lifestyle;Pretend Play  Genres_Role Playing;Brain Games  \\\n",
       "0                                 0                                0   \n",
       "1                                 0                                0   \n",
       "2                                 0                                0   \n",
       "3                                 0                                0   \n",
       "4                                 0                                0   \n",
       "...                             ...                              ...   \n",
       "8667                              0                                0   \n",
       "8668                              0                                0   \n",
       "8669                              0                                0   \n",
       "8670                              0                                0   \n",
       "8671                              0                                0   \n",
       "\n",
       "      Genres_Travel & Local;Action & Adventure  \n",
       "0                                            0  \n",
       "1                                            0  \n",
       "2                                            0  \n",
       "3                                            0  \n",
       "4                                            0  \n",
       "...                                        ...  \n",
       "8667                                         0  \n",
       "8668                                         0  \n",
       "8669                                         0  \n",
       "8670                                         0  \n",
       "8671                                         0  \n",
       "\n",
       "[8672 rows x 175 columns]"
      ]
     },
     "execution_count": 3,
     "metadata": {},
     "output_type": "execute_result"
    }
   ],
   "source": [
    "X_train"
   ]
  },
  {
   "cell_type": "markdown",
   "id": "b844d901",
   "metadata": {},
   "source": [
    "## Constant and Quasi-constant features\n",
    "Mithilfe des untenstehenden Befehls löschen wir quasi-konstante und konstante Variablen.\n",
    "Wenn ich nur konstante löschen möchte, muss ich die Toleranz auf 1 setzen."
   ]
  },
  {
   "cell_type": "code",
   "execution_count": 4,
   "id": "4208ed6f",
   "metadata": {},
   "outputs": [
    {
     "data": {
      "text/html": [
       "<style>#sk-container-id-1 {color: black;background-color: white;}#sk-container-id-1 pre{padding: 0;}#sk-container-id-1 div.sk-toggleable {background-color: white;}#sk-container-id-1 label.sk-toggleable__label {cursor: pointer;display: block;width: 100%;margin-bottom: 0;padding: 0.3em;box-sizing: border-box;text-align: center;}#sk-container-id-1 label.sk-toggleable__label-arrow:before {content: \"▸\";float: left;margin-right: 0.25em;color: #696969;}#sk-container-id-1 label.sk-toggleable__label-arrow:hover:before {color: black;}#sk-container-id-1 div.sk-estimator:hover label.sk-toggleable__label-arrow:before {color: black;}#sk-container-id-1 div.sk-toggleable__content {max-height: 0;max-width: 0;overflow: hidden;text-align: left;background-color: #f0f8ff;}#sk-container-id-1 div.sk-toggleable__content pre {margin: 0.2em;color: black;border-radius: 0.25em;background-color: #f0f8ff;}#sk-container-id-1 input.sk-toggleable__control:checked~div.sk-toggleable__content {max-height: 200px;max-width: 100%;overflow: auto;}#sk-container-id-1 input.sk-toggleable__control:checked~label.sk-toggleable__label-arrow:before {content: \"▾\";}#sk-container-id-1 div.sk-estimator input.sk-toggleable__control:checked~label.sk-toggleable__label {background-color: #d4ebff;}#sk-container-id-1 div.sk-label input.sk-toggleable__control:checked~label.sk-toggleable__label {background-color: #d4ebff;}#sk-container-id-1 input.sk-hidden--visually {border: 0;clip: rect(1px 1px 1px 1px);clip: rect(1px, 1px, 1px, 1px);height: 1px;margin: -1px;overflow: hidden;padding: 0;position: absolute;width: 1px;}#sk-container-id-1 div.sk-estimator {font-family: monospace;background-color: #f0f8ff;border: 1px dotted black;border-radius: 0.25em;box-sizing: border-box;margin-bottom: 0.5em;}#sk-container-id-1 div.sk-estimator:hover {background-color: #d4ebff;}#sk-container-id-1 div.sk-parallel-item::after {content: \"\";width: 100%;border-bottom: 1px solid gray;flex-grow: 1;}#sk-container-id-1 div.sk-label:hover label.sk-toggleable__label {background-color: #d4ebff;}#sk-container-id-1 div.sk-serial::before {content: \"\";position: absolute;border-left: 1px solid gray;box-sizing: border-box;top: 0;bottom: 0;left: 50%;z-index: 0;}#sk-container-id-1 div.sk-serial {display: flex;flex-direction: column;align-items: center;background-color: white;padding-right: 0.2em;padding-left: 0.2em;position: relative;}#sk-container-id-1 div.sk-item {position: relative;z-index: 1;}#sk-container-id-1 div.sk-parallel {display: flex;align-items: stretch;justify-content: center;background-color: white;position: relative;}#sk-container-id-1 div.sk-item::before, #sk-container-id-1 div.sk-parallel-item::before {content: \"\";position: absolute;border-left: 1px solid gray;box-sizing: border-box;top: 0;bottom: 0;left: 50%;z-index: -1;}#sk-container-id-1 div.sk-parallel-item {display: flex;flex-direction: column;z-index: 1;position: relative;background-color: white;}#sk-container-id-1 div.sk-parallel-item:first-child::after {align-self: flex-end;width: 50%;}#sk-container-id-1 div.sk-parallel-item:last-child::after {align-self: flex-start;width: 50%;}#sk-container-id-1 div.sk-parallel-item:only-child::after {width: 0;}#sk-container-id-1 div.sk-dashed-wrapped {border: 1px dashed gray;margin: 0 0.4em 0.5em 0.4em;box-sizing: border-box;padding-bottom: 0.4em;background-color: white;}#sk-container-id-1 div.sk-label label {font-family: monospace;font-weight: bold;display: inline-block;line-height: 1.2em;}#sk-container-id-1 div.sk-label-container {text-align: center;}#sk-container-id-1 div.sk-container {/* jupyter's `normalize.less` sets `[hidden] { display: none; }` but bootstrap.min.css set `[hidden] { display: none !important; }` so we also need the `!important` here to be able to override the default hidden behavior on the sphinx rendered scikit-learn.org. See: https://github.com/scikit-learn/scikit-learn/issues/21755 */display: inline-block !important;position: relative;}#sk-container-id-1 div.sk-text-repr-fallback {display: none;}</style><div id=\"sk-container-id-1\" class=\"sk-top-container\"><div class=\"sk-text-repr-fallback\"><pre>DropConstantFeatures(tol=0.95)</pre><b>In a Jupyter environment, please rerun this cell to show the HTML representation or trust the notebook. <br />On GitHub, the HTML representation is unable to render, please try loading this page with nbviewer.org.</b></div><div class=\"sk-container\" hidden><div class=\"sk-item\"><div class=\"sk-estimator sk-toggleable\"><input class=\"sk-toggleable__control sk-hidden--visually\" id=\"sk-estimator-id-1\" type=\"checkbox\" checked><label for=\"sk-estimator-id-1\" class=\"sk-toggleable__label sk-toggleable__label-arrow\">DropConstantFeatures</label><div class=\"sk-toggleable__content\"><pre>DropConstantFeatures(tol=0.95)</pre></div></div></div></div></div>"
      ],
      "text/plain": [
       "DropConstantFeatures(tol=0.95)"
      ]
     },
     "execution_count": 4,
     "metadata": {},
     "output_type": "execute_result"
    }
   ],
   "source": [
    "sel = DropConstantFeatures(tol=0.95, variables=None, missing_values='raise') # quasi-constant drop as tol is not equal to 1, with tol = 1 we get Constant feature dropping\n",
    "\n",
    "sel.fit(X_train)"
   ]
  },
  {
   "cell_type": "code",
   "execution_count": 5,
   "id": "ad6edf6a",
   "metadata": {},
   "outputs": [
    {
     "data": {
      "text/plain": [
       "156"
      ]
     },
     "execution_count": 5,
     "metadata": {},
     "output_type": "execute_result"
    }
   ],
   "source": [
    "# number of quasi-constant features\n",
    "\n",
    "len(sel.features_to_drop_)"
   ]
  },
  {
   "cell_type": "code",
   "execution_count": 6,
   "id": "c357e40d",
   "metadata": {},
   "outputs": [
    {
     "data": {
      "text/plain": [
       "['Category_TRAVEL_AND_LOCAL',\n",
       " 'Category_VIDEO_PLAYERS',\n",
       " 'Category_FINANCE',\n",
       " 'Category_MEDICAL',\n",
       " 'Category_SOCIAL',\n",
       " 'Category_PERSONALIZATION',\n",
       " 'Category_PHOTOGRAPHY',\n",
       " 'Category_MAPS_AND_NAVIGATION',\n",
       " 'Category_HEALTH_AND_FITNESS',\n",
       " 'Category_COMMUNICATION',\n",
       " 'Category_LIBRARIES_AND_DEMO',\n",
       " 'Category_DATING',\n",
       " 'Category_LIFESTYLE',\n",
       " 'Category_BUSINESS',\n",
       " 'Category_PRODUCTIVITY',\n",
       " 'Category_BEAUTY',\n",
       " 'Category_BOOKS_AND_REFERENCE',\n",
       " 'Category_SHOPPING',\n",
       " 'Category_EDUCATION',\n",
       " 'Category_NEWS_AND_MAGAZINES',\n",
       " 'Category_SPORTS',\n",
       " 'Category_FOOD_AND_DRINK',\n",
       " 'Category_HOUSE_AND_HOME',\n",
       " 'Category_PARENTING',\n",
       " 'Category_AUTO_AND_VEHICLES',\n",
       " 'Category_ART_AND_DESIGN',\n",
       " 'Category_COMICS',\n",
       " 'Category_WEATHER',\n",
       " 'Category_ENTERTAINMENT',\n",
       " 'Category_EVENTS',\n",
       " 'Size_40.1-50MB',\n",
       " 'Size_90.1-100MB',\n",
       " 'Size_50.1-60MB',\n",
       " 'Size_80.1-90MB',\n",
       " 'Size_60.1-70MB',\n",
       " 'Size_70.1-80MB',\n",
       " 'Content Rating_Everyone 10+',\n",
       " 'Content Rating_Mature 17+',\n",
       " 'Content Rating_Adults only 18+',\n",
       " 'Content Rating_Unrated',\n",
       " 'Genres_Travel & Local',\n",
       " 'Genres_Video Players & Editors',\n",
       " 'Genres_Finance',\n",
       " 'Genres_Role Playing',\n",
       " 'Genres_Education;Education',\n",
       " 'Genres_Medical',\n",
       " 'Genres_Arcade',\n",
       " 'Genres_Social',\n",
       " 'Genres_Personalization',\n",
       " 'Genres_Photography',\n",
       " 'Genres_Maps & Navigation',\n",
       " 'Genres_Health & Fitness',\n",
       " 'Genres_Communication',\n",
       " 'Genres_Libraries & Demo',\n",
       " 'Genres_Dating',\n",
       " 'Genres_Strategy',\n",
       " 'Genres_Lifestyle',\n",
       " 'Genres_Business',\n",
       " 'Genres_Racing',\n",
       " 'Genres_Productivity',\n",
       " 'Genres_Beauty',\n",
       " 'Genres_Books & Reference',\n",
       " 'Genres_Shopping',\n",
       " 'Genres_Puzzle',\n",
       " 'Genres_Casual',\n",
       " 'Genres_News & Magazines',\n",
       " 'Genres_Sports',\n",
       " 'Genres_Entertainment;Music & Video',\n",
       " 'Genres_Action',\n",
       " 'Genres_Video Players & Editors;Music & Video',\n",
       " 'Genres_Simulation',\n",
       " 'Genres_Food & Drink',\n",
       " 'Genres_House & Home',\n",
       " 'Genres_Parenting',\n",
       " 'Genres_Board',\n",
       " 'Genres_Educational;Education',\n",
       " 'Genres_Auto & Vehicles',\n",
       " 'Genres_Word',\n",
       " 'Genres_Art & Design',\n",
       " 'Genres_Puzzle;Brain Games',\n",
       " 'Genres_Comics',\n",
       " 'Genres_Action;Action & Adventure',\n",
       " 'Genres_Simulation;Action & Adventure',\n",
       " 'Genres_Weather',\n",
       " 'Genres_Role Playing;Pretend Play',\n",
       " 'Genres_Casino',\n",
       " 'Genres_Adventure',\n",
       " 'Genres_Card',\n",
       " 'Genres_Education;Pretend Play',\n",
       " 'Genres_Casual;Action & Adventure',\n",
       " 'Genres_Education;Brain Games',\n",
       " 'Genres_Events',\n",
       " 'Genres_Arcade;Action & Adventure',\n",
       " 'Genres_Casual;Brain Games',\n",
       " 'Genres_Casual;Creativity',\n",
       " 'Genres_Entertainment;Brain Games',\n",
       " 'Genres_Casual;Pretend Play',\n",
       " 'Genres_Educational',\n",
       " 'Genres_Entertainment;Creativity',\n",
       " 'Genres_Educational;Pretend Play',\n",
       " 'Genres_Racing;Action & Adventure',\n",
       " 'Genres_Board;Brain Games',\n",
       " 'Genres_Trivia',\n",
       " 'Genres_Educational;Action & Adventure',\n",
       " 'Genres_Education;Music & Video',\n",
       " 'Genres_Puzzle;Education',\n",
       " 'Genres_Adventure;Action & Adventure',\n",
       " 'Genres_Strategy;Creativity',\n",
       " 'Genres_Simulation;Pretend Play',\n",
       " 'Genres_Education;Creativity',\n",
       " 'Genres_Art & Design;Action & Adventure',\n",
       " 'Genres_Music',\n",
       " 'Genres_Music;Music & Video',\n",
       " 'Genres_Education;Action & Adventure',\n",
       " 'Genres_Lifestyle;Education',\n",
       " 'Genres_Entertainment;Pretend Play',\n",
       " 'Genres_Board;Action & Adventure',\n",
       " 'Genres_Books & Reference;Education',\n",
       " 'Genres_Entertainment;Action & Adventure',\n",
       " 'Genres_Strategy;Action & Adventure',\n",
       " 'Genres_Board;Pretend Play',\n",
       " 'Genres_Educational;Brain Games',\n",
       " 'Genres_Parenting;Education',\n",
       " 'Genres_Card;Action & Adventure',\n",
       " 'Genres_Entertainment;Education',\n",
       " 'Genres_Parenting;Music & Video',\n",
       " 'Genres_Educational;Creativity',\n",
       " 'Genres_Art & Design;Pretend Play',\n",
       " 'Genres_Role Playing;Action & Adventure',\n",
       " 'Genres_Casual;Music & Video',\n",
       " 'Genres_Adventure;Education',\n",
       " 'Genres_Racing;Pretend Play',\n",
       " 'Genres_Video Players & Editors;Creativity',\n",
       " 'Genres_Art & Design;Creativity',\n",
       " 'Genres_Trivia;Education',\n",
       " 'Genres_Strategy;Education',\n",
       " 'Genres_Tools;Education',\n",
       " 'Genres_Health & Fitness;Education',\n",
       " 'Genres_Music & Audio;Music & Video',\n",
       " 'Genres_Simulation;Education',\n",
       " 'Genres_Puzzle;Action & Adventure',\n",
       " 'Genres_Sports;Action & Adventure',\n",
       " 'Genres_Puzzle;Creativity',\n",
       " 'Genres_Parenting;Brain Games',\n",
       " 'Genres_Arcade;Pretend Play',\n",
       " 'Genres_Health & Fitness;Action & Adventure',\n",
       " 'Genres_Card;Brain Games',\n",
       " 'Genres_Communication;Creativity',\n",
       " 'Genres_Books & Reference;Creativity',\n",
       " 'Genres_Casual;Education',\n",
       " 'Genres_Adventure;Brain Games',\n",
       " 'Genres_Role Playing;Education',\n",
       " 'Genres_Comics;Creativity',\n",
       " 'Genres_Lifestyle;Pretend Play',\n",
       " 'Genres_Role Playing;Brain Games',\n",
       " 'Genres_Travel & Local;Action & Adventure']"
      ]
     },
     "execution_count": 6,
     "metadata": {},
     "output_type": "execute_result"
    }
   ],
   "source": [
    "# list of quasi-constant features\n",
    "\n",
    "sel.features_to_drop_"
   ]
  },
  {
   "cell_type": "code",
   "execution_count": 7,
   "id": "17aa5acd",
   "metadata": {},
   "outputs": [
    {
     "data": {
      "text/plain": [
       "((8672, 19), (2168, 19))"
      ]
     },
     "execution_count": 7,
     "metadata": {},
     "output_type": "execute_result"
    }
   ],
   "source": [
    "#remove the quasi-constant features\n",
    "\n",
    "X_train_trans = sel.transform(X_train)\n",
    "X_test_trans = sel.transform(X_test)\n",
    "\n",
    "X_train_trans.shape, X_test_trans.shape"
   ]
  },
  {
   "cell_type": "markdown",
   "id": "14859e30",
   "metadata": {},
   "source": [
    "## Duplicates\n",
    "Doppelte Werte enthalten die gleiche Information, aus dem Grund wollen wir diese entfernen. Dies machen wir nun mit folgnedem Befehl."
   ]
  },
  {
   "cell_type": "code",
   "execution_count": 8,
   "id": "e08fcd59",
   "metadata": {},
   "outputs": [
    {
     "data": {
      "text/html": [
       "<style>#sk-container-id-2 {color: black;background-color: white;}#sk-container-id-2 pre{padding: 0;}#sk-container-id-2 div.sk-toggleable {background-color: white;}#sk-container-id-2 label.sk-toggleable__label {cursor: pointer;display: block;width: 100%;margin-bottom: 0;padding: 0.3em;box-sizing: border-box;text-align: center;}#sk-container-id-2 label.sk-toggleable__label-arrow:before {content: \"▸\";float: left;margin-right: 0.25em;color: #696969;}#sk-container-id-2 label.sk-toggleable__label-arrow:hover:before {color: black;}#sk-container-id-2 div.sk-estimator:hover label.sk-toggleable__label-arrow:before {color: black;}#sk-container-id-2 div.sk-toggleable__content {max-height: 0;max-width: 0;overflow: hidden;text-align: left;background-color: #f0f8ff;}#sk-container-id-2 div.sk-toggleable__content pre {margin: 0.2em;color: black;border-radius: 0.25em;background-color: #f0f8ff;}#sk-container-id-2 input.sk-toggleable__control:checked~div.sk-toggleable__content {max-height: 200px;max-width: 100%;overflow: auto;}#sk-container-id-2 input.sk-toggleable__control:checked~label.sk-toggleable__label-arrow:before {content: \"▾\";}#sk-container-id-2 div.sk-estimator input.sk-toggleable__control:checked~label.sk-toggleable__label {background-color: #d4ebff;}#sk-container-id-2 div.sk-label input.sk-toggleable__control:checked~label.sk-toggleable__label {background-color: #d4ebff;}#sk-container-id-2 input.sk-hidden--visually {border: 0;clip: rect(1px 1px 1px 1px);clip: rect(1px, 1px, 1px, 1px);height: 1px;margin: -1px;overflow: hidden;padding: 0;position: absolute;width: 1px;}#sk-container-id-2 div.sk-estimator {font-family: monospace;background-color: #f0f8ff;border: 1px dotted black;border-radius: 0.25em;box-sizing: border-box;margin-bottom: 0.5em;}#sk-container-id-2 div.sk-estimator:hover {background-color: #d4ebff;}#sk-container-id-2 div.sk-parallel-item::after {content: \"\";width: 100%;border-bottom: 1px solid gray;flex-grow: 1;}#sk-container-id-2 div.sk-label:hover label.sk-toggleable__label {background-color: #d4ebff;}#sk-container-id-2 div.sk-serial::before {content: \"\";position: absolute;border-left: 1px solid gray;box-sizing: border-box;top: 0;bottom: 0;left: 50%;z-index: 0;}#sk-container-id-2 div.sk-serial {display: flex;flex-direction: column;align-items: center;background-color: white;padding-right: 0.2em;padding-left: 0.2em;position: relative;}#sk-container-id-2 div.sk-item {position: relative;z-index: 1;}#sk-container-id-2 div.sk-parallel {display: flex;align-items: stretch;justify-content: center;background-color: white;position: relative;}#sk-container-id-2 div.sk-item::before, #sk-container-id-2 div.sk-parallel-item::before {content: \"\";position: absolute;border-left: 1px solid gray;box-sizing: border-box;top: 0;bottom: 0;left: 50%;z-index: -1;}#sk-container-id-2 div.sk-parallel-item {display: flex;flex-direction: column;z-index: 1;position: relative;background-color: white;}#sk-container-id-2 div.sk-parallel-item:first-child::after {align-self: flex-end;width: 50%;}#sk-container-id-2 div.sk-parallel-item:last-child::after {align-self: flex-start;width: 50%;}#sk-container-id-2 div.sk-parallel-item:only-child::after {width: 0;}#sk-container-id-2 div.sk-dashed-wrapped {border: 1px dashed gray;margin: 0 0.4em 0.5em 0.4em;box-sizing: border-box;padding-bottom: 0.4em;background-color: white;}#sk-container-id-2 div.sk-label label {font-family: monospace;font-weight: bold;display: inline-block;line-height: 1.2em;}#sk-container-id-2 div.sk-label-container {text-align: center;}#sk-container-id-2 div.sk-container {/* jupyter's `normalize.less` sets `[hidden] { display: none; }` but bootstrap.min.css set `[hidden] { display: none !important; }` so we also need the `!important` here to be able to override the default hidden behavior on the sphinx rendered scikit-learn.org. See: https://github.com/scikit-learn/scikit-learn/issues/21755 */display: inline-block !important;position: relative;}#sk-container-id-2 div.sk-text-repr-fallback {display: none;}</style><div id=\"sk-container-id-2\" class=\"sk-top-container\"><div class=\"sk-text-repr-fallback\"><pre>DropDuplicateFeatures(missing_values=&#x27;raise&#x27;)</pre><b>In a Jupyter environment, please rerun this cell to show the HTML representation or trust the notebook. <br />On GitHub, the HTML representation is unable to render, please try loading this page with nbviewer.org.</b></div><div class=\"sk-container\" hidden><div class=\"sk-item\"><div class=\"sk-estimator sk-toggleable\"><input class=\"sk-toggleable__control sk-hidden--visually\" id=\"sk-estimator-id-2\" type=\"checkbox\" checked><label for=\"sk-estimator-id-2\" class=\"sk-toggleable__label sk-toggleable__label-arrow\">DropDuplicateFeatures</label><div class=\"sk-toggleable__content\"><pre>DropDuplicateFeatures(missing_values=&#x27;raise&#x27;)</pre></div></div></div></div></div>"
      ],
      "text/plain": [
       "DropDuplicateFeatures(missing_values='raise')"
      ]
     },
     "execution_count": 8,
     "metadata": {},
     "output_type": "execute_result"
    }
   ],
   "source": [
    "# set up the selector\n",
    "sel = DropDuplicateFeatures(variables=None, missing_values='raise')\n",
    "\n",
    "# find the duplicate features, this might take a while\n",
    "sel.fit(X_train_trans)"
   ]
  },
  {
   "cell_type": "code",
   "execution_count": 9,
   "id": "2a592733",
   "metadata": {},
   "outputs": [
    {
     "data": {
      "text/plain": [
       "[]"
      ]
     },
     "execution_count": 9,
     "metadata": {},
     "output_type": "execute_result"
    }
   ],
   "source": [
    "# these are the pairs of duplicated features\n",
    "# each set are duplicates\n",
    "\n",
    "sel.duplicated_feature_sets_"
   ]
  },
  {
   "cell_type": "code",
   "execution_count": 10,
   "id": "3acc07b5",
   "metadata": {},
   "outputs": [
    {
     "data": {
      "text/plain": [
       "set()"
      ]
     },
     "execution_count": 10,
     "metadata": {},
     "output_type": "execute_result"
    }
   ],
   "source": [
    "# these are the features that will be dropped\n",
    "# 1 from each of the pairs above\n",
    "\n",
    "sel.features_to_drop_"
   ]
  },
  {
   "cell_type": "code",
   "execution_count": 11,
   "id": "518e9458",
   "metadata": {},
   "outputs": [
    {
     "data": {
      "text/plain": [
       "((8672, 19), (2168, 19))"
      ]
     },
     "execution_count": 11,
     "metadata": {},
     "output_type": "execute_result"
    }
   ],
   "source": [
    "# remove the duplicated features\n",
    "\n",
    "X_train_trans = sel.transform(X_train_trans)\n",
    "X_test_trans = sel.transform(X_test_trans)\n",
    "\n",
    "X_train_trans.shape, X_test_trans.shape"
   ]
  },
  {
   "cell_type": "markdown",
   "id": "c750ad1c",
   "metadata": {},
   "source": [
    "## Correlation\n",
    "### Brut force approach"
   ]
  },
  {
   "cell_type": "code",
   "execution_count": 12,
   "id": "bc6dcda3",
   "metadata": {},
   "outputs": [
    {
     "data": {
      "text/html": [
       "<style>#sk-container-id-3 {color: black;background-color: white;}#sk-container-id-3 pre{padding: 0;}#sk-container-id-3 div.sk-toggleable {background-color: white;}#sk-container-id-3 label.sk-toggleable__label {cursor: pointer;display: block;width: 100%;margin-bottom: 0;padding: 0.3em;box-sizing: border-box;text-align: center;}#sk-container-id-3 label.sk-toggleable__label-arrow:before {content: \"▸\";float: left;margin-right: 0.25em;color: #696969;}#sk-container-id-3 label.sk-toggleable__label-arrow:hover:before {color: black;}#sk-container-id-3 div.sk-estimator:hover label.sk-toggleable__label-arrow:before {color: black;}#sk-container-id-3 div.sk-toggleable__content {max-height: 0;max-width: 0;overflow: hidden;text-align: left;background-color: #f0f8ff;}#sk-container-id-3 div.sk-toggleable__content pre {margin: 0.2em;color: black;border-radius: 0.25em;background-color: #f0f8ff;}#sk-container-id-3 input.sk-toggleable__control:checked~div.sk-toggleable__content {max-height: 200px;max-width: 100%;overflow: auto;}#sk-container-id-3 input.sk-toggleable__control:checked~label.sk-toggleable__label-arrow:before {content: \"▾\";}#sk-container-id-3 div.sk-estimator input.sk-toggleable__control:checked~label.sk-toggleable__label {background-color: #d4ebff;}#sk-container-id-3 div.sk-label input.sk-toggleable__control:checked~label.sk-toggleable__label {background-color: #d4ebff;}#sk-container-id-3 input.sk-hidden--visually {border: 0;clip: rect(1px 1px 1px 1px);clip: rect(1px, 1px, 1px, 1px);height: 1px;margin: -1px;overflow: hidden;padding: 0;position: absolute;width: 1px;}#sk-container-id-3 div.sk-estimator {font-family: monospace;background-color: #f0f8ff;border: 1px dotted black;border-radius: 0.25em;box-sizing: border-box;margin-bottom: 0.5em;}#sk-container-id-3 div.sk-estimator:hover {background-color: #d4ebff;}#sk-container-id-3 div.sk-parallel-item::after {content: \"\";width: 100%;border-bottom: 1px solid gray;flex-grow: 1;}#sk-container-id-3 div.sk-label:hover label.sk-toggleable__label {background-color: #d4ebff;}#sk-container-id-3 div.sk-serial::before {content: \"\";position: absolute;border-left: 1px solid gray;box-sizing: border-box;top: 0;bottom: 0;left: 50%;z-index: 0;}#sk-container-id-3 div.sk-serial {display: flex;flex-direction: column;align-items: center;background-color: white;padding-right: 0.2em;padding-left: 0.2em;position: relative;}#sk-container-id-3 div.sk-item {position: relative;z-index: 1;}#sk-container-id-3 div.sk-parallel {display: flex;align-items: stretch;justify-content: center;background-color: white;position: relative;}#sk-container-id-3 div.sk-item::before, #sk-container-id-3 div.sk-parallel-item::before {content: \"\";position: absolute;border-left: 1px solid gray;box-sizing: border-box;top: 0;bottom: 0;left: 50%;z-index: -1;}#sk-container-id-3 div.sk-parallel-item {display: flex;flex-direction: column;z-index: 1;position: relative;background-color: white;}#sk-container-id-3 div.sk-parallel-item:first-child::after {align-self: flex-end;width: 50%;}#sk-container-id-3 div.sk-parallel-item:last-child::after {align-self: flex-start;width: 50%;}#sk-container-id-3 div.sk-parallel-item:only-child::after {width: 0;}#sk-container-id-3 div.sk-dashed-wrapped {border: 1px dashed gray;margin: 0 0.4em 0.5em 0.4em;box-sizing: border-box;padding-bottom: 0.4em;background-color: white;}#sk-container-id-3 div.sk-label label {font-family: monospace;font-weight: bold;display: inline-block;line-height: 1.2em;}#sk-container-id-3 div.sk-label-container {text-align: center;}#sk-container-id-3 div.sk-container {/* jupyter's `normalize.less` sets `[hidden] { display: none; }` but bootstrap.min.css set `[hidden] { display: none !important; }` so we also need the `!important` here to be able to override the default hidden behavior on the sphinx rendered scikit-learn.org. See: https://github.com/scikit-learn/scikit-learn/issues/21755 */display: inline-block !important;position: relative;}#sk-container-id-3 div.sk-text-repr-fallback {display: none;}</style><div id=\"sk-container-id-3\" class=\"sk-top-container\"><div class=\"sk-text-repr-fallback\"><pre>DropCorrelatedFeatures()</pre><b>In a Jupyter environment, please rerun this cell to show the HTML representation or trust the notebook. <br />On GitHub, the HTML representation is unable to render, please try loading this page with nbviewer.org.</b></div><div class=\"sk-container\" hidden><div class=\"sk-item\"><div class=\"sk-estimator sk-toggleable\"><input class=\"sk-toggleable__control sk-hidden--visually\" id=\"sk-estimator-id-3\" type=\"checkbox\" checked><label for=\"sk-estimator-id-3\" class=\"sk-toggleable__label sk-toggleable__label-arrow\">DropCorrelatedFeatures</label><div class=\"sk-toggleable__content\"><pre>DropCorrelatedFeatures()</pre></div></div></div></div></div>"
      ],
      "text/plain": [
       "DropCorrelatedFeatures()"
      ]
     },
     "execution_count": 12,
     "metadata": {},
     "output_type": "execute_result"
    }
   ],
   "source": [
    "# set up the selector\n",
    "\n",
    "sel = DropCorrelatedFeatures(\n",
    "    threshold=0.8,\n",
    "    method='pearson',\n",
    "    missing_values='ignore'\n",
    ")\n",
    "\n",
    "\n",
    "# find correlated features\n",
    "\n",
    "sel.fit(X_train_trans)"
   ]
  },
  {
   "cell_type": "code",
   "execution_count": 13,
   "id": "d84b878f",
   "metadata": {},
   "outputs": [
    {
     "data": {
      "text/plain": [
       "[{'Category_TOOLS', 'Genres_Tools'}, {'Type_Free', 'Type_Paid'}]"
      ]
     },
     "execution_count": 13,
     "metadata": {},
     "output_type": "execute_result"
    }
   ],
   "source": [
    "# each set contains a group of correlated features\n",
    "\n",
    "sel.correlated_feature_sets_"
   ]
  },
  {
   "cell_type": "code",
   "execution_count": 14,
   "id": "0316cf7d",
   "metadata": {},
   "outputs": [
    {
     "data": {
      "text/plain": [
       "2"
      ]
     },
     "execution_count": 14,
     "metadata": {},
     "output_type": "execute_result"
    }
   ],
   "source": [
    "# the transformer selects 1 feature from each group.\n",
    "# the rest will be removed and can be found in this attribute\n",
    "\n",
    "len(sel.features_to_drop_)"
   ]
  },
  {
   "cell_type": "code",
   "execution_count": 15,
   "id": "5489a792",
   "metadata": {},
   "outputs": [
    {
     "name": "stdout",
     "output_type": "stream",
     "text": [
      "Die formate vor der Transformation sind: (8672, 175)\n",
      "Die formate nach der Transformation sind: (8672, 17)\n"
     ]
    }
   ],
   "source": [
    "# drop correlated features\n",
    "\n",
    "X_train_trans_brut = sel.transform(X_train_trans)\n",
    "X_test_trans_brut = sel.transform(X_test_trans)\n",
    "\n",
    "print(\"Die formate vor der Transformation sind: {}\".format(X_train.shape))\n",
    "print(\"Die formate nach der Transformation sind: {}\".format(X_train_trans_brut.shape))"
   ]
  },
  {
   "cell_type": "markdown",
   "id": "c3f3df8a",
   "metadata": {},
   "source": [
    "### Smart Method\n",
    "Hier werden wir nun die smartere Methode mit der Varianz sehen."
   ]
  },
  {
   "cell_type": "code",
   "execution_count": 16,
   "id": "b1d8a917",
   "metadata": {},
   "outputs": [
    {
     "data": {
      "text/html": [
       "<style>#sk-container-id-4 {color: black;background-color: white;}#sk-container-id-4 pre{padding: 0;}#sk-container-id-4 div.sk-toggleable {background-color: white;}#sk-container-id-4 label.sk-toggleable__label {cursor: pointer;display: block;width: 100%;margin-bottom: 0;padding: 0.3em;box-sizing: border-box;text-align: center;}#sk-container-id-4 label.sk-toggleable__label-arrow:before {content: \"▸\";float: left;margin-right: 0.25em;color: #696969;}#sk-container-id-4 label.sk-toggleable__label-arrow:hover:before {color: black;}#sk-container-id-4 div.sk-estimator:hover label.sk-toggleable__label-arrow:before {color: black;}#sk-container-id-4 div.sk-toggleable__content {max-height: 0;max-width: 0;overflow: hidden;text-align: left;background-color: #f0f8ff;}#sk-container-id-4 div.sk-toggleable__content pre {margin: 0.2em;color: black;border-radius: 0.25em;background-color: #f0f8ff;}#sk-container-id-4 input.sk-toggleable__control:checked~div.sk-toggleable__content {max-height: 200px;max-width: 100%;overflow: auto;}#sk-container-id-4 input.sk-toggleable__control:checked~label.sk-toggleable__label-arrow:before {content: \"▾\";}#sk-container-id-4 div.sk-estimator input.sk-toggleable__control:checked~label.sk-toggleable__label {background-color: #d4ebff;}#sk-container-id-4 div.sk-label input.sk-toggleable__control:checked~label.sk-toggleable__label {background-color: #d4ebff;}#sk-container-id-4 input.sk-hidden--visually {border: 0;clip: rect(1px 1px 1px 1px);clip: rect(1px, 1px, 1px, 1px);height: 1px;margin: -1px;overflow: hidden;padding: 0;position: absolute;width: 1px;}#sk-container-id-4 div.sk-estimator {font-family: monospace;background-color: #f0f8ff;border: 1px dotted black;border-radius: 0.25em;box-sizing: border-box;margin-bottom: 0.5em;}#sk-container-id-4 div.sk-estimator:hover {background-color: #d4ebff;}#sk-container-id-4 div.sk-parallel-item::after {content: \"\";width: 100%;border-bottom: 1px solid gray;flex-grow: 1;}#sk-container-id-4 div.sk-label:hover label.sk-toggleable__label {background-color: #d4ebff;}#sk-container-id-4 div.sk-serial::before {content: \"\";position: absolute;border-left: 1px solid gray;box-sizing: border-box;top: 0;bottom: 0;left: 50%;z-index: 0;}#sk-container-id-4 div.sk-serial {display: flex;flex-direction: column;align-items: center;background-color: white;padding-right: 0.2em;padding-left: 0.2em;position: relative;}#sk-container-id-4 div.sk-item {position: relative;z-index: 1;}#sk-container-id-4 div.sk-parallel {display: flex;align-items: stretch;justify-content: center;background-color: white;position: relative;}#sk-container-id-4 div.sk-item::before, #sk-container-id-4 div.sk-parallel-item::before {content: \"\";position: absolute;border-left: 1px solid gray;box-sizing: border-box;top: 0;bottom: 0;left: 50%;z-index: -1;}#sk-container-id-4 div.sk-parallel-item {display: flex;flex-direction: column;z-index: 1;position: relative;background-color: white;}#sk-container-id-4 div.sk-parallel-item:first-child::after {align-self: flex-end;width: 50%;}#sk-container-id-4 div.sk-parallel-item:last-child::after {align-self: flex-start;width: 50%;}#sk-container-id-4 div.sk-parallel-item:only-child::after {width: 0;}#sk-container-id-4 div.sk-dashed-wrapped {border: 1px dashed gray;margin: 0 0.4em 0.5em 0.4em;box-sizing: border-box;padding-bottom: 0.4em;background-color: white;}#sk-container-id-4 div.sk-label label {font-family: monospace;font-weight: bold;display: inline-block;line-height: 1.2em;}#sk-container-id-4 div.sk-label-container {text-align: center;}#sk-container-id-4 div.sk-container {/* jupyter's `normalize.less` sets `[hidden] { display: none; }` but bootstrap.min.css set `[hidden] { display: none !important; }` so we also need the `!important` here to be able to override the default hidden behavior on the sphinx rendered scikit-learn.org. See: https://github.com/scikit-learn/scikit-learn/issues/21755 */display: inline-block !important;position: relative;}#sk-container-id-4 div.sk-text-repr-fallback {display: none;}</style><div id=\"sk-container-id-4\" class=\"sk-top-container\"><div class=\"sk-text-repr-fallback\"><pre>SmartCorrelatedSelection(missing_values=&#x27;raise&#x27;, selection_method=&#x27;variance&#x27;)</pre><b>In a Jupyter environment, please rerun this cell to show the HTML representation or trust the notebook. <br />On GitHub, the HTML representation is unable to render, please try loading this page with nbviewer.org.</b></div><div class=\"sk-container\" hidden><div class=\"sk-item\"><div class=\"sk-estimator sk-toggleable\"><input class=\"sk-toggleable__control sk-hidden--visually\" id=\"sk-estimator-id-4\" type=\"checkbox\" checked><label for=\"sk-estimator-id-4\" class=\"sk-toggleable__label sk-toggleable__label-arrow\">SmartCorrelatedSelection</label><div class=\"sk-toggleable__content\"><pre>SmartCorrelatedSelection(missing_values=&#x27;raise&#x27;, selection_method=&#x27;variance&#x27;)</pre></div></div></div></div></div>"
      ],
      "text/plain": [
       "SmartCorrelatedSelection(missing_values='raise', selection_method='variance')"
      ]
     },
     "execution_count": 16,
     "metadata": {},
     "output_type": "execute_result"
    }
   ],
   "source": [
    "# correlation selector\n",
    "\n",
    "sel = SmartCorrelatedSelection(\n",
    "    variables=None,\n",
    "    method=\"pearson\",\n",
    "    threshold=0.8,\n",
    "    missing_values=\"raise\",\n",
    "    selection_method=\"variance\",\n",
    "    estimator=None,\n",
    "    scoring=\"roc_auc\",\n",
    "    cv=3,\n",
    ")\n",
    "\n",
    "sel.fit(X_train_trans, ytrain)"
   ]
  },
  {
   "cell_type": "code",
   "execution_count": 17,
   "id": "f7efa473",
   "metadata": {},
   "outputs": [
    {
     "data": {
      "text/plain": [
       "[{'Category_TOOLS', 'Genres_Tools'}, {'Type_Free', 'Type_Paid'}]"
      ]
     },
     "execution_count": 17,
     "metadata": {},
     "output_type": "execute_result"
    }
   ],
   "source": [
    "sel.correlated_feature_sets_"
   ]
  },
  {
   "cell_type": "code",
   "execution_count": 18,
   "id": "85429166",
   "metadata": {},
   "outputs": [
    {
     "name": "stderr",
     "output_type": "stream",
     "text": [
      "/tmp/ipykernel_24458/1783187135.py:6: FutureWarning: Passing a set as an indexer is deprecated and will raise in a future version. Use a list instead.\n",
      "  X_train_trans[group].std()\n"
     ]
    },
    {
     "data": {
      "text/plain": [
       "Category_TOOLS    0.270994\n",
       "Genres_Tools      0.270815\n",
       "dtype: float64"
      ]
     },
     "execution_count": 18,
     "metadata": {},
     "output_type": "execute_result"
    }
   ],
   "source": [
    "# let's examine the variance of the features from the second group of\n",
    "# correlated ones\n",
    "\n",
    "group = sel.correlated_feature_sets_[0]\n",
    "\n",
    "X_train_trans[group].std()"
   ]
  },
  {
   "cell_type": "code",
   "execution_count": 19,
   "id": "a89f6759",
   "metadata": {},
   "outputs": [
    {
     "name": "stderr",
     "output_type": "stream",
     "text": [
      "/tmp/ipykernel_24458/1364412638.py:6: FutureWarning: Passing a set as an indexer is deprecated and will raise in a future version. Use a list instead.\n",
      "  X_train_trans[group].std()\n"
     ]
    },
    {
     "data": {
      "text/plain": [
       "Type_Paid    0.263704\n",
       "Type_Free    0.263704\n",
       "dtype: float64"
      ]
     },
     "execution_count": 19,
     "metadata": {},
     "output_type": "execute_result"
    }
   ],
   "source": [
    "# let's examine the variance of the features from the second group of\n",
    "# correlated ones\n",
    "\n",
    "group = sel.correlated_feature_sets_[1]\n",
    "\n",
    "X_train_trans[group].std()"
   ]
  },
  {
   "cell_type": "code",
   "execution_count": 20,
   "id": "86e39f21",
   "metadata": {},
   "outputs": [
    {
     "data": {
      "text/plain": [
       "(8672, 19)"
      ]
     },
     "execution_count": 20,
     "metadata": {},
     "output_type": "execute_result"
    }
   ],
   "source": [
    "X_train_trans.shape"
   ]
  },
  {
   "cell_type": "code",
   "execution_count": 21,
   "id": "25478c70",
   "metadata": {},
   "outputs": [],
   "source": [
    "X_train_trans_smart= sel.transform(X_train_trans)\n",
    "X_test_trans_smart= sel.transform(X_test_trans)"
   ]
  },
  {
   "cell_type": "code",
   "execution_count": 22,
   "id": "d7e431d2",
   "metadata": {},
   "outputs": [
    {
     "data": {
      "text/plain": [
       "(8672, 17)"
      ]
     },
     "execution_count": 22,
     "metadata": {},
     "output_type": "execute_result"
    }
   ],
   "source": [
    "X_train_trans_smart.shape"
   ]
  },
  {
   "cell_type": "markdown",
   "id": "88eb6a00",
   "metadata": {},
   "source": [
    "## Speicherung der Daten"
   ]
  },
  {
   "cell_type": "code",
   "execution_count": 23,
   "id": "3ed13b75",
   "metadata": {},
   "outputs": [],
   "source": [
    "X_train_trans_smart.to_csv(\"Xtrain_feature_sel.csv\",index=False)\n",
    "X_test_trans_smart.to_csv(\"Xtest_feature_sel.csv\",index=False)"
   ]
  }
 ],
 "metadata": {
  "kernelspec": {
   "display_name": "Python 3 (ipykernel)",
   "language": "python",
   "name": "python3"
  },
  "language_info": {
   "codemirror_mode": {
    "name": "ipython",
    "version": 3
   },
   "file_extension": ".py",
   "mimetype": "text/x-python",
   "name": "python",
   "nbconvert_exporter": "python",
   "pygments_lexer": "ipython3",
   "version": "3.10.6"
  }
 },
 "nbformat": 4,
 "nbformat_minor": 5
}
