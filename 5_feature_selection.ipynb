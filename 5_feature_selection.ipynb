{
 "cells": [
  {
   "cell_type": "code",
   "execution_count": 24,
   "id": "7568e236",
   "metadata": {},
   "outputs": [],
   "source": [
    "import numpy as np\n",
    "import pandas as pd\n",
    "from sklearn.model_selection import train_test_split\n",
    "\n",
    "from feature_engine.selection import DropConstantFeatures, DropDuplicateFeatures\n",
    "from feature_engine.selection import DropCorrelatedFeatures, SmartCorrelatedSelection"
   ]
  },
  {
   "cell_type": "code",
   "execution_count": 25,
   "id": "771dc32b",
   "metadata": {},
   "outputs": [
    {
     "name": "stdout",
     "output_type": "stream",
     "text": [
      "Shape of X Train: (8672, 76)\n",
      "Shape of X Test: (2168, 76)\n",
      "Shape of y Train: (8672, 1)\n",
      "Shape of y Test: (2168, 1)\n"
     ]
    }
   ],
   "source": [
    "X_train = pd.read_csv(\"Xtrain_k_one_hot_scaled.csv\")\n",
    "X_test = pd.read_csv(\"Xtest_k_one_hot_scaled.csv\")\n",
    "ytrain = pd.read_csv(\"ytrain.csv\")\n",
    "ytest = pd.read_csv(\"ytest.csv\")\n",
    "print(\"Shape of X Train: {}\".format(X_train.shape))\n",
    "print(\"Shape of X Test: {}\".format(X_test.shape))\n",
    "print(\"Shape of y Train: {}\".format(ytrain.shape))\n",
    "print(\"Shape of y Test: {}\".format(ytest.shape))"
   ]
  },
  {
   "cell_type": "code",
   "execution_count": 26,
   "id": "8de6c64f",
   "metadata": {},
   "outputs": [
    {
     "data": {
      "text/plain": "       Reviews    Rating  days_since_update  Price  Category_TRAVEL_AND_LOCAL  \\\n0    -0.144827  0.403271          -0.603588    0.0                          1   \n1    -0.150937 -1.053274           0.637297    0.0                          0   \n2    -0.151044  1.651738           3.887354    0.0                          0   \n3    -0.150943  1.027505          -0.613697    0.0                          0   \n4    -0.122954  0.611349          -0.570733    0.0                          0   \n...        ...       ...                ...    ...                        ...   \n8667 -0.017494  0.611349          -0.633915    0.0                          0   \n8668 -0.141238 -0.220963           0.619606    0.0                          0   \n8669 -0.012583  0.195193          -0.651606    0.0                          0   \n8670 -0.150341  1.027505          -0.454479    0.0                          0   \n8671  0.324947  0.819427          -0.644024    0.0                          0   \n\n      Category_VIDEO_PLAYERS  Category_FINANCE  Category_FAMILY  \\\n0                          0                 0                0   \n1                          1                 0                0   \n2                          0                 1                0   \n3                          0                 0                1   \n4                          0                 1                0   \n...                      ...               ...              ...   \n8667                       0                 0                1   \n8668                       0                 0                0   \n8669                       0                 0                1   \n8670                       0                 0                0   \n8671                       0                 0                0   \n\n      Category_MEDICAL  Category_GAME  ...  Genres_Productivity  \\\n0                    0              0  ...                    0   \n1                    0              0  ...                    0   \n2                    0              0  ...                    0   \n3                    0              0  ...                    0   \n4                    0              0  ...                    0   \n...                ...            ...  ...                  ...   \n8667                 0              0  ...                    0   \n8668                 0              0  ...                    0   \n8669                 0              0  ...                    0   \n8670                 0              0  ...                    0   \n8671                 0              0  ...                    0   \n\n      Genres_Books & Reference  Genres_Shopping  Genres_Puzzle  Genres_Casual  \\\n0                            0                0              0              0   \n1                            0                0              0              0   \n2                            0                0              0              0   \n3                            0                0              0              0   \n4                            0                0              0              0   \n...                        ...              ...            ...            ...   \n8667                         0                0              0              0   \n8668                         0                0              0              0   \n8669                         0                0              0              0   \n8670                         0                0              0              0   \n8671                         0                1              0              0   \n\n      Genres_News & Magazines  Genres_Sports  Genres_Action  \\\n0                           0              0              0   \n1                           0              0              0   \n2                           0              0              0   \n3                           0              0              0   \n4                           0              0              0   \n...                       ...            ...            ...   \n8667                        0              0              0   \n8668                        0              0              0   \n8669                        0              0              0   \n8670                        0              0              0   \n8671                        0              0              0   \n\n      Genres_Simulation  Genres_Food & Drink  \n0                     0                    0  \n1                     0                    0  \n2                     0                    0  \n3                     0                    0  \n4                     0                    0  \n...                 ...                  ...  \n8667                  0                    0  \n8668                  0                    0  \n8669                  0                    0  \n8670                  0                    0  \n8671                  0                    0  \n\n[8672 rows x 76 columns]",
      "text/html": "<div>\n<style scoped>\n    .dataframe tbody tr th:only-of-type {\n        vertical-align: middle;\n    }\n\n    .dataframe tbody tr th {\n        vertical-align: top;\n    }\n\n    .dataframe thead th {\n        text-align: right;\n    }\n</style>\n<table border=\"1\" class=\"dataframe\">\n  <thead>\n    <tr style=\"text-align: right;\">\n      <th></th>\n      <th>Reviews</th>\n      <th>Rating</th>\n      <th>days_since_update</th>\n      <th>Price</th>\n      <th>Category_TRAVEL_AND_LOCAL</th>\n      <th>Category_VIDEO_PLAYERS</th>\n      <th>Category_FINANCE</th>\n      <th>Category_FAMILY</th>\n      <th>Category_MEDICAL</th>\n      <th>Category_GAME</th>\n      <th>...</th>\n      <th>Genres_Productivity</th>\n      <th>Genres_Books &amp; Reference</th>\n      <th>Genres_Shopping</th>\n      <th>Genres_Puzzle</th>\n      <th>Genres_Casual</th>\n      <th>Genres_News &amp; Magazines</th>\n      <th>Genres_Sports</th>\n      <th>Genres_Action</th>\n      <th>Genres_Simulation</th>\n      <th>Genres_Food &amp; Drink</th>\n    </tr>\n  </thead>\n  <tbody>\n    <tr>\n      <th>0</th>\n      <td>-0.144827</td>\n      <td>0.403271</td>\n      <td>-0.603588</td>\n      <td>0.0</td>\n      <td>1</td>\n      <td>0</td>\n      <td>0</td>\n      <td>0</td>\n      <td>0</td>\n      <td>0</td>\n      <td>...</td>\n      <td>0</td>\n      <td>0</td>\n      <td>0</td>\n      <td>0</td>\n      <td>0</td>\n      <td>0</td>\n      <td>0</td>\n      <td>0</td>\n      <td>0</td>\n      <td>0</td>\n    </tr>\n    <tr>\n      <th>1</th>\n      <td>-0.150937</td>\n      <td>-1.053274</td>\n      <td>0.637297</td>\n      <td>0.0</td>\n      <td>0</td>\n      <td>1</td>\n      <td>0</td>\n      <td>0</td>\n      <td>0</td>\n      <td>0</td>\n      <td>...</td>\n      <td>0</td>\n      <td>0</td>\n      <td>0</td>\n      <td>0</td>\n      <td>0</td>\n      <td>0</td>\n      <td>0</td>\n      <td>0</td>\n      <td>0</td>\n      <td>0</td>\n    </tr>\n    <tr>\n      <th>2</th>\n      <td>-0.151044</td>\n      <td>1.651738</td>\n      <td>3.887354</td>\n      <td>0.0</td>\n      <td>0</td>\n      <td>0</td>\n      <td>1</td>\n      <td>0</td>\n      <td>0</td>\n      <td>0</td>\n      <td>...</td>\n      <td>0</td>\n      <td>0</td>\n      <td>0</td>\n      <td>0</td>\n      <td>0</td>\n      <td>0</td>\n      <td>0</td>\n      <td>0</td>\n      <td>0</td>\n      <td>0</td>\n    </tr>\n    <tr>\n      <th>3</th>\n      <td>-0.150943</td>\n      <td>1.027505</td>\n      <td>-0.613697</td>\n      <td>0.0</td>\n      <td>0</td>\n      <td>0</td>\n      <td>0</td>\n      <td>1</td>\n      <td>0</td>\n      <td>0</td>\n      <td>...</td>\n      <td>0</td>\n      <td>0</td>\n      <td>0</td>\n      <td>0</td>\n      <td>0</td>\n      <td>0</td>\n      <td>0</td>\n      <td>0</td>\n      <td>0</td>\n      <td>0</td>\n    </tr>\n    <tr>\n      <th>4</th>\n      <td>-0.122954</td>\n      <td>0.611349</td>\n      <td>-0.570733</td>\n      <td>0.0</td>\n      <td>0</td>\n      <td>0</td>\n      <td>1</td>\n      <td>0</td>\n      <td>0</td>\n      <td>0</td>\n      <td>...</td>\n      <td>0</td>\n      <td>0</td>\n      <td>0</td>\n      <td>0</td>\n      <td>0</td>\n      <td>0</td>\n      <td>0</td>\n      <td>0</td>\n      <td>0</td>\n      <td>0</td>\n    </tr>\n    <tr>\n      <th>...</th>\n      <td>...</td>\n      <td>...</td>\n      <td>...</td>\n      <td>...</td>\n      <td>...</td>\n      <td>...</td>\n      <td>...</td>\n      <td>...</td>\n      <td>...</td>\n      <td>...</td>\n      <td>...</td>\n      <td>...</td>\n      <td>...</td>\n      <td>...</td>\n      <td>...</td>\n      <td>...</td>\n      <td>...</td>\n      <td>...</td>\n      <td>...</td>\n      <td>...</td>\n      <td>...</td>\n    </tr>\n    <tr>\n      <th>8667</th>\n      <td>-0.017494</td>\n      <td>0.611349</td>\n      <td>-0.633915</td>\n      <td>0.0</td>\n      <td>0</td>\n      <td>0</td>\n      <td>0</td>\n      <td>1</td>\n      <td>0</td>\n      <td>0</td>\n      <td>...</td>\n      <td>0</td>\n      <td>0</td>\n      <td>0</td>\n      <td>0</td>\n      <td>0</td>\n      <td>0</td>\n      <td>0</td>\n      <td>0</td>\n      <td>0</td>\n      <td>0</td>\n    </tr>\n    <tr>\n      <th>8668</th>\n      <td>-0.141238</td>\n      <td>-0.220963</td>\n      <td>0.619606</td>\n      <td>0.0</td>\n      <td>0</td>\n      <td>0</td>\n      <td>0</td>\n      <td>0</td>\n      <td>0</td>\n      <td>0</td>\n      <td>...</td>\n      <td>0</td>\n      <td>0</td>\n      <td>0</td>\n      <td>0</td>\n      <td>0</td>\n      <td>0</td>\n      <td>0</td>\n      <td>0</td>\n      <td>0</td>\n      <td>0</td>\n    </tr>\n    <tr>\n      <th>8669</th>\n      <td>-0.012583</td>\n      <td>0.195193</td>\n      <td>-0.651606</td>\n      <td>0.0</td>\n      <td>0</td>\n      <td>0</td>\n      <td>0</td>\n      <td>1</td>\n      <td>0</td>\n      <td>0</td>\n      <td>...</td>\n      <td>0</td>\n      <td>0</td>\n      <td>0</td>\n      <td>0</td>\n      <td>0</td>\n      <td>0</td>\n      <td>0</td>\n      <td>0</td>\n      <td>0</td>\n      <td>0</td>\n    </tr>\n    <tr>\n      <th>8670</th>\n      <td>-0.150341</td>\n      <td>1.027505</td>\n      <td>-0.454479</td>\n      <td>0.0</td>\n      <td>0</td>\n      <td>0</td>\n      <td>0</td>\n      <td>0</td>\n      <td>0</td>\n      <td>0</td>\n      <td>...</td>\n      <td>0</td>\n      <td>0</td>\n      <td>0</td>\n      <td>0</td>\n      <td>0</td>\n      <td>0</td>\n      <td>0</td>\n      <td>0</td>\n      <td>0</td>\n      <td>0</td>\n    </tr>\n    <tr>\n      <th>8671</th>\n      <td>0.324947</td>\n      <td>0.819427</td>\n      <td>-0.644024</td>\n      <td>0.0</td>\n      <td>0</td>\n      <td>0</td>\n      <td>0</td>\n      <td>0</td>\n      <td>0</td>\n      <td>0</td>\n      <td>...</td>\n      <td>0</td>\n      <td>0</td>\n      <td>1</td>\n      <td>0</td>\n      <td>0</td>\n      <td>0</td>\n      <td>0</td>\n      <td>0</td>\n      <td>0</td>\n      <td>0</td>\n    </tr>\n  </tbody>\n</table>\n<p>8672 rows × 76 columns</p>\n</div>"
     },
     "execution_count": 26,
     "metadata": {},
     "output_type": "execute_result"
    }
   ],
   "source": [
    "X_train"
   ]
  },
  {
   "cell_type": "markdown",
   "id": "b844d901",
   "metadata": {},
   "source": [
    "## Constant and Quasi-constant features\n",
    "Mithilfe des untenstehenden Befehls löschen wir quasi-konstante und konstante Variablen.\n",
    "Wenn ich nur konstante löschen möchte, muss ich die Toleranz auf 1 setzen."
   ]
  },
  {
   "cell_type": "code",
   "execution_count": 27,
   "id": "4208ed6f",
   "metadata": {},
   "outputs": [
    {
     "data": {
      "text/plain": "DropConstantFeatures(tol=0.95)",
      "text/html": "<style>#sk-container-id-5 {color: black;background-color: white;}#sk-container-id-5 pre{padding: 0;}#sk-container-id-5 div.sk-toggleable {background-color: white;}#sk-container-id-5 label.sk-toggleable__label {cursor: pointer;display: block;width: 100%;margin-bottom: 0;padding: 0.3em;box-sizing: border-box;text-align: center;}#sk-container-id-5 label.sk-toggleable__label-arrow:before {content: \"▸\";float: left;margin-right: 0.25em;color: #696969;}#sk-container-id-5 label.sk-toggleable__label-arrow:hover:before {color: black;}#sk-container-id-5 div.sk-estimator:hover label.sk-toggleable__label-arrow:before {color: black;}#sk-container-id-5 div.sk-toggleable__content {max-height: 0;max-width: 0;overflow: hidden;text-align: left;background-color: #f0f8ff;}#sk-container-id-5 div.sk-toggleable__content pre {margin: 0.2em;color: black;border-radius: 0.25em;background-color: #f0f8ff;}#sk-container-id-5 input.sk-toggleable__control:checked~div.sk-toggleable__content {max-height: 200px;max-width: 100%;overflow: auto;}#sk-container-id-5 input.sk-toggleable__control:checked~label.sk-toggleable__label-arrow:before {content: \"▾\";}#sk-container-id-5 div.sk-estimator input.sk-toggleable__control:checked~label.sk-toggleable__label {background-color: #d4ebff;}#sk-container-id-5 div.sk-label input.sk-toggleable__control:checked~label.sk-toggleable__label {background-color: #d4ebff;}#sk-container-id-5 input.sk-hidden--visually {border: 0;clip: rect(1px 1px 1px 1px);clip: rect(1px, 1px, 1px, 1px);height: 1px;margin: -1px;overflow: hidden;padding: 0;position: absolute;width: 1px;}#sk-container-id-5 div.sk-estimator {font-family: monospace;background-color: #f0f8ff;border: 1px dotted black;border-radius: 0.25em;box-sizing: border-box;margin-bottom: 0.5em;}#sk-container-id-5 div.sk-estimator:hover {background-color: #d4ebff;}#sk-container-id-5 div.sk-parallel-item::after {content: \"\";width: 100%;border-bottom: 1px solid gray;flex-grow: 1;}#sk-container-id-5 div.sk-label:hover label.sk-toggleable__label {background-color: #d4ebff;}#sk-container-id-5 div.sk-serial::before {content: \"\";position: absolute;border-left: 1px solid gray;box-sizing: border-box;top: 0;bottom: 0;left: 50%;z-index: 0;}#sk-container-id-5 div.sk-serial {display: flex;flex-direction: column;align-items: center;background-color: white;padding-right: 0.2em;padding-left: 0.2em;position: relative;}#sk-container-id-5 div.sk-item {position: relative;z-index: 1;}#sk-container-id-5 div.sk-parallel {display: flex;align-items: stretch;justify-content: center;background-color: white;position: relative;}#sk-container-id-5 div.sk-item::before, #sk-container-id-5 div.sk-parallel-item::before {content: \"\";position: absolute;border-left: 1px solid gray;box-sizing: border-box;top: 0;bottom: 0;left: 50%;z-index: -1;}#sk-container-id-5 div.sk-parallel-item {display: flex;flex-direction: column;z-index: 1;position: relative;background-color: white;}#sk-container-id-5 div.sk-parallel-item:first-child::after {align-self: flex-end;width: 50%;}#sk-container-id-5 div.sk-parallel-item:last-child::after {align-self: flex-start;width: 50%;}#sk-container-id-5 div.sk-parallel-item:only-child::after {width: 0;}#sk-container-id-5 div.sk-dashed-wrapped {border: 1px dashed gray;margin: 0 0.4em 0.5em 0.4em;box-sizing: border-box;padding-bottom: 0.4em;background-color: white;}#sk-container-id-5 div.sk-label label {font-family: monospace;font-weight: bold;display: inline-block;line-height: 1.2em;}#sk-container-id-5 div.sk-label-container {text-align: center;}#sk-container-id-5 div.sk-container {/* jupyter's `normalize.less` sets `[hidden] { display: none; }` but bootstrap.min.css set `[hidden] { display: none !important; }` so we also need the `!important` here to be able to override the default hidden behavior on the sphinx rendered scikit-learn.org. See: https://github.com/scikit-learn/scikit-learn/issues/21755 */display: inline-block !important;position: relative;}#sk-container-id-5 div.sk-text-repr-fallback {display: none;}</style><div id=\"sk-container-id-5\" class=\"sk-top-container\"><div class=\"sk-text-repr-fallback\"><pre>DropConstantFeatures(tol=0.95)</pre><b>In a Jupyter environment, please rerun this cell to show the HTML representation or trust the notebook. <br />On GitHub, the HTML representation is unable to render, please try loading this page with nbviewer.org.</b></div><div class=\"sk-container\" hidden><div class=\"sk-item\"><div class=\"sk-estimator sk-toggleable\"><input class=\"sk-toggleable__control sk-hidden--visually\" id=\"sk-estimator-id-5\" type=\"checkbox\" checked><label for=\"sk-estimator-id-5\" class=\"sk-toggleable__label sk-toggleable__label-arrow\">DropConstantFeatures</label><div class=\"sk-toggleable__content\"><pre>DropConstantFeatures(tol=0.95)</pre></div></div></div></div></div>"
     },
     "execution_count": 27,
     "metadata": {},
     "output_type": "execute_result"
    }
   ],
   "source": [
    "sel = DropConstantFeatures(tol=0.95, variables=None, missing_values='raise') # quasi-constant drop as tol is not equal to 1, with tol = 1 we get Constant feature dropping\n",
    "\n",
    "sel.fit(X_train)"
   ]
  },
  {
   "cell_type": "code",
   "execution_count": 28,
   "id": "ad6edf6a",
   "metadata": {},
   "outputs": [
    {
     "data": {
      "text/plain": "55"
     },
     "execution_count": 28,
     "metadata": {},
     "output_type": "execute_result"
    }
   ],
   "source": [
    "# number of quasi-constant features\n",
    "\n",
    "len(sel.features_to_drop_)"
   ]
  },
  {
   "cell_type": "code",
   "execution_count": 29,
   "id": "c357e40d",
   "metadata": {},
   "outputs": [
    {
     "data": {
      "text/plain": "['Category_TRAVEL_AND_LOCAL',\n 'Category_VIDEO_PLAYERS',\n 'Category_FINANCE',\n 'Category_MEDICAL',\n 'Category_SOCIAL',\n 'Category_PERSONALIZATION',\n 'Category_PHOTOGRAPHY',\n 'Category_MAPS_AND_NAVIGATION',\n 'Category_HEALTH_AND_FITNESS',\n 'Category_COMMUNICATION',\n 'Category_DATING',\n 'Category_LIFESTYLE',\n 'Category_BUSINESS',\n 'Category_PRODUCTIVITY',\n 'Category_BOOKS_AND_REFERENCE',\n 'Category_SHOPPING',\n 'Category_EDUCATION',\n 'Category_NEWS_AND_MAGAZINES',\n 'Category_SPORTS',\n 'Category_FOOD_AND_DRINK',\n 'Category_ENTERTAINMENT',\n 'Size_40.1-50MB',\n 'Size_90.1-100MB',\n 'Size_50.1-60MB',\n 'Size_80.1-90MB',\n 'Size_60.1-70MB',\n 'Size_70.1-80MB',\n 'Content Rating_Everyone 10+',\n 'Content Rating_Mature 17+',\n 'Content Rating_Rare',\n 'Genres_Travel & Local',\n 'Genres_Video Players & Editors',\n 'Genres_Finance',\n 'Genres_Role Playing',\n 'Genres_Medical',\n 'Genres_Arcade',\n 'Genres_Social',\n 'Genres_Personalization',\n 'Genres_Photography',\n 'Genres_Maps & Navigation',\n 'Genres_Health & Fitness',\n 'Genres_Communication',\n 'Genres_Dating',\n 'Genres_Lifestyle',\n 'Genres_Business',\n 'Genres_Productivity',\n 'Genres_Books & Reference',\n 'Genres_Shopping',\n 'Genres_Puzzle',\n 'Genres_Casual',\n 'Genres_News & Magazines',\n 'Genres_Sports',\n 'Genres_Action',\n 'Genres_Simulation',\n 'Genres_Food & Drink']"
     },
     "execution_count": 29,
     "metadata": {},
     "output_type": "execute_result"
    }
   ],
   "source": [
    "# list of quasi-constant features\n",
    "\n",
    "sel.features_to_drop_"
   ]
  },
  {
   "cell_type": "code",
   "execution_count": 30,
   "id": "17aa5acd",
   "metadata": {},
   "outputs": [
    {
     "data": {
      "text/plain": "((8672, 21), (2168, 21))"
     },
     "execution_count": 30,
     "metadata": {},
     "output_type": "execute_result"
    }
   ],
   "source": [
    "#remove the quasi-constant features\n",
    "\n",
    "X_train_trans = sel.transform(X_train)\n",
    "X_test_trans = sel.transform(X_test)\n",
    "\n",
    "X_train_trans.shape, X_test_trans.shape"
   ]
  },
  {
   "cell_type": "markdown",
   "id": "14859e30",
   "metadata": {},
   "source": [
    "## Duplicates\n",
    "Doppelte Werte enthalten die gleiche Information, aus dem Grund wollen wir diese entfernen. Dies machen wir nun mit folgnedem Befehl."
   ]
  },
  {
   "cell_type": "code",
   "execution_count": 31,
   "id": "e08fcd59",
   "metadata": {},
   "outputs": [
    {
     "data": {
      "text/plain": "DropDuplicateFeatures(missing_values='raise')",
      "text/html": "<style>#sk-container-id-6 {color: black;background-color: white;}#sk-container-id-6 pre{padding: 0;}#sk-container-id-6 div.sk-toggleable {background-color: white;}#sk-container-id-6 label.sk-toggleable__label {cursor: pointer;display: block;width: 100%;margin-bottom: 0;padding: 0.3em;box-sizing: border-box;text-align: center;}#sk-container-id-6 label.sk-toggleable__label-arrow:before {content: \"▸\";float: left;margin-right: 0.25em;color: #696969;}#sk-container-id-6 label.sk-toggleable__label-arrow:hover:before {color: black;}#sk-container-id-6 div.sk-estimator:hover label.sk-toggleable__label-arrow:before {color: black;}#sk-container-id-6 div.sk-toggleable__content {max-height: 0;max-width: 0;overflow: hidden;text-align: left;background-color: #f0f8ff;}#sk-container-id-6 div.sk-toggleable__content pre {margin: 0.2em;color: black;border-radius: 0.25em;background-color: #f0f8ff;}#sk-container-id-6 input.sk-toggleable__control:checked~div.sk-toggleable__content {max-height: 200px;max-width: 100%;overflow: auto;}#sk-container-id-6 input.sk-toggleable__control:checked~label.sk-toggleable__label-arrow:before {content: \"▾\";}#sk-container-id-6 div.sk-estimator input.sk-toggleable__control:checked~label.sk-toggleable__label {background-color: #d4ebff;}#sk-container-id-6 div.sk-label input.sk-toggleable__control:checked~label.sk-toggleable__label {background-color: #d4ebff;}#sk-container-id-6 input.sk-hidden--visually {border: 0;clip: rect(1px 1px 1px 1px);clip: rect(1px, 1px, 1px, 1px);height: 1px;margin: -1px;overflow: hidden;padding: 0;position: absolute;width: 1px;}#sk-container-id-6 div.sk-estimator {font-family: monospace;background-color: #f0f8ff;border: 1px dotted black;border-radius: 0.25em;box-sizing: border-box;margin-bottom: 0.5em;}#sk-container-id-6 div.sk-estimator:hover {background-color: #d4ebff;}#sk-container-id-6 div.sk-parallel-item::after {content: \"\";width: 100%;border-bottom: 1px solid gray;flex-grow: 1;}#sk-container-id-6 div.sk-label:hover label.sk-toggleable__label {background-color: #d4ebff;}#sk-container-id-6 div.sk-serial::before {content: \"\";position: absolute;border-left: 1px solid gray;box-sizing: border-box;top: 0;bottom: 0;left: 50%;z-index: 0;}#sk-container-id-6 div.sk-serial {display: flex;flex-direction: column;align-items: center;background-color: white;padding-right: 0.2em;padding-left: 0.2em;position: relative;}#sk-container-id-6 div.sk-item {position: relative;z-index: 1;}#sk-container-id-6 div.sk-parallel {display: flex;align-items: stretch;justify-content: center;background-color: white;position: relative;}#sk-container-id-6 div.sk-item::before, #sk-container-id-6 div.sk-parallel-item::before {content: \"\";position: absolute;border-left: 1px solid gray;box-sizing: border-box;top: 0;bottom: 0;left: 50%;z-index: -1;}#sk-container-id-6 div.sk-parallel-item {display: flex;flex-direction: column;z-index: 1;position: relative;background-color: white;}#sk-container-id-6 div.sk-parallel-item:first-child::after {align-self: flex-end;width: 50%;}#sk-container-id-6 div.sk-parallel-item:last-child::after {align-self: flex-start;width: 50%;}#sk-container-id-6 div.sk-parallel-item:only-child::after {width: 0;}#sk-container-id-6 div.sk-dashed-wrapped {border: 1px dashed gray;margin: 0 0.4em 0.5em 0.4em;box-sizing: border-box;padding-bottom: 0.4em;background-color: white;}#sk-container-id-6 div.sk-label label {font-family: monospace;font-weight: bold;display: inline-block;line-height: 1.2em;}#sk-container-id-6 div.sk-label-container {text-align: center;}#sk-container-id-6 div.sk-container {/* jupyter's `normalize.less` sets `[hidden] { display: none; }` but bootstrap.min.css set `[hidden] { display: none !important; }` so we also need the `!important` here to be able to override the default hidden behavior on the sphinx rendered scikit-learn.org. See: https://github.com/scikit-learn/scikit-learn/issues/21755 */display: inline-block !important;position: relative;}#sk-container-id-6 div.sk-text-repr-fallback {display: none;}</style><div id=\"sk-container-id-6\" class=\"sk-top-container\"><div class=\"sk-text-repr-fallback\"><pre>DropDuplicateFeatures(missing_values=&#x27;raise&#x27;)</pre><b>In a Jupyter environment, please rerun this cell to show the HTML representation or trust the notebook. <br />On GitHub, the HTML representation is unable to render, please try loading this page with nbviewer.org.</b></div><div class=\"sk-container\" hidden><div class=\"sk-item\"><div class=\"sk-estimator sk-toggleable\"><input class=\"sk-toggleable__control sk-hidden--visually\" id=\"sk-estimator-id-6\" type=\"checkbox\" checked><label for=\"sk-estimator-id-6\" class=\"sk-toggleable__label sk-toggleable__label-arrow\">DropDuplicateFeatures</label><div class=\"sk-toggleable__content\"><pre>DropDuplicateFeatures(missing_values=&#x27;raise&#x27;)</pre></div></div></div></div></div>"
     },
     "execution_count": 31,
     "metadata": {},
     "output_type": "execute_result"
    }
   ],
   "source": [
    "# set up the selector\n",
    "sel = DropDuplicateFeatures(variables=None, missing_values='raise')\n",
    "\n",
    "# find the duplicate features, this might take a while\n",
    "sel.fit(X_train_trans)"
   ]
  },
  {
   "cell_type": "code",
   "execution_count": 32,
   "id": "2a592733",
   "metadata": {},
   "outputs": [
    {
     "data": {
      "text/plain": "[]"
     },
     "execution_count": 32,
     "metadata": {},
     "output_type": "execute_result"
    }
   ],
   "source": [
    "# these are the pairs of duplicated features\n",
    "# each set are duplicates\n",
    "\n",
    "sel.duplicated_feature_sets_"
   ]
  },
  {
   "cell_type": "code",
   "execution_count": 33,
   "id": "3acc07b5",
   "metadata": {},
   "outputs": [
    {
     "data": {
      "text/plain": "set()"
     },
     "execution_count": 33,
     "metadata": {},
     "output_type": "execute_result"
    }
   ],
   "source": [
    "# these are the features that will be dropped\n",
    "# 1 from each of the pairs above\n",
    "\n",
    "sel.features_to_drop_"
   ]
  },
  {
   "cell_type": "code",
   "execution_count": 34,
   "id": "518e9458",
   "metadata": {},
   "outputs": [
    {
     "data": {
      "text/plain": "((8672, 21), (2168, 21))"
     },
     "execution_count": 34,
     "metadata": {},
     "output_type": "execute_result"
    }
   ],
   "source": [
    "# remove the duplicated features\n",
    "\n",
    "X_train_trans = sel.transform(X_train_trans)\n",
    "X_test_trans = sel.transform(X_test_trans)\n",
    "\n",
    "X_train_trans.shape, X_test_trans.shape"
   ]
  },
  {
   "cell_type": "markdown",
   "id": "c750ad1c",
   "metadata": {},
   "source": [
    "## Correlation\n",
    "### Brut force approach"
   ]
  },
  {
   "cell_type": "code",
   "execution_count": 35,
   "id": "bc6dcda3",
   "metadata": {},
   "outputs": [
    {
     "data": {
      "text/plain": "DropCorrelatedFeatures()",
      "text/html": "<style>#sk-container-id-7 {color: black;background-color: white;}#sk-container-id-7 pre{padding: 0;}#sk-container-id-7 div.sk-toggleable {background-color: white;}#sk-container-id-7 label.sk-toggleable__label {cursor: pointer;display: block;width: 100%;margin-bottom: 0;padding: 0.3em;box-sizing: border-box;text-align: center;}#sk-container-id-7 label.sk-toggleable__label-arrow:before {content: \"▸\";float: left;margin-right: 0.25em;color: #696969;}#sk-container-id-7 label.sk-toggleable__label-arrow:hover:before {color: black;}#sk-container-id-7 div.sk-estimator:hover label.sk-toggleable__label-arrow:before {color: black;}#sk-container-id-7 div.sk-toggleable__content {max-height: 0;max-width: 0;overflow: hidden;text-align: left;background-color: #f0f8ff;}#sk-container-id-7 div.sk-toggleable__content pre {margin: 0.2em;color: black;border-radius: 0.25em;background-color: #f0f8ff;}#sk-container-id-7 input.sk-toggleable__control:checked~div.sk-toggleable__content {max-height: 200px;max-width: 100%;overflow: auto;}#sk-container-id-7 input.sk-toggleable__control:checked~label.sk-toggleable__label-arrow:before {content: \"▾\";}#sk-container-id-7 div.sk-estimator input.sk-toggleable__control:checked~label.sk-toggleable__label {background-color: #d4ebff;}#sk-container-id-7 div.sk-label input.sk-toggleable__control:checked~label.sk-toggleable__label {background-color: #d4ebff;}#sk-container-id-7 input.sk-hidden--visually {border: 0;clip: rect(1px 1px 1px 1px);clip: rect(1px, 1px, 1px, 1px);height: 1px;margin: -1px;overflow: hidden;padding: 0;position: absolute;width: 1px;}#sk-container-id-7 div.sk-estimator {font-family: monospace;background-color: #f0f8ff;border: 1px dotted black;border-radius: 0.25em;box-sizing: border-box;margin-bottom: 0.5em;}#sk-container-id-7 div.sk-estimator:hover {background-color: #d4ebff;}#sk-container-id-7 div.sk-parallel-item::after {content: \"\";width: 100%;border-bottom: 1px solid gray;flex-grow: 1;}#sk-container-id-7 div.sk-label:hover label.sk-toggleable__label {background-color: #d4ebff;}#sk-container-id-7 div.sk-serial::before {content: \"\";position: absolute;border-left: 1px solid gray;box-sizing: border-box;top: 0;bottom: 0;left: 50%;z-index: 0;}#sk-container-id-7 div.sk-serial {display: flex;flex-direction: column;align-items: center;background-color: white;padding-right: 0.2em;padding-left: 0.2em;position: relative;}#sk-container-id-7 div.sk-item {position: relative;z-index: 1;}#sk-container-id-7 div.sk-parallel {display: flex;align-items: stretch;justify-content: center;background-color: white;position: relative;}#sk-container-id-7 div.sk-item::before, #sk-container-id-7 div.sk-parallel-item::before {content: \"\";position: absolute;border-left: 1px solid gray;box-sizing: border-box;top: 0;bottom: 0;left: 50%;z-index: -1;}#sk-container-id-7 div.sk-parallel-item {display: flex;flex-direction: column;z-index: 1;position: relative;background-color: white;}#sk-container-id-7 div.sk-parallel-item:first-child::after {align-self: flex-end;width: 50%;}#sk-container-id-7 div.sk-parallel-item:last-child::after {align-self: flex-start;width: 50%;}#sk-container-id-7 div.sk-parallel-item:only-child::after {width: 0;}#sk-container-id-7 div.sk-dashed-wrapped {border: 1px dashed gray;margin: 0 0.4em 0.5em 0.4em;box-sizing: border-box;padding-bottom: 0.4em;background-color: white;}#sk-container-id-7 div.sk-label label {font-family: monospace;font-weight: bold;display: inline-block;line-height: 1.2em;}#sk-container-id-7 div.sk-label-container {text-align: center;}#sk-container-id-7 div.sk-container {/* jupyter's `normalize.less` sets `[hidden] { display: none; }` but bootstrap.min.css set `[hidden] { display: none !important; }` so we also need the `!important` here to be able to override the default hidden behavior on the sphinx rendered scikit-learn.org. See: https://github.com/scikit-learn/scikit-learn/issues/21755 */display: inline-block !important;position: relative;}#sk-container-id-7 div.sk-text-repr-fallback {display: none;}</style><div id=\"sk-container-id-7\" class=\"sk-top-container\"><div class=\"sk-text-repr-fallback\"><pre>DropCorrelatedFeatures()</pre><b>In a Jupyter environment, please rerun this cell to show the HTML representation or trust the notebook. <br />On GitHub, the HTML representation is unable to render, please try loading this page with nbviewer.org.</b></div><div class=\"sk-container\" hidden><div class=\"sk-item\"><div class=\"sk-estimator sk-toggleable\"><input class=\"sk-toggleable__control sk-hidden--visually\" id=\"sk-estimator-id-7\" type=\"checkbox\" checked><label for=\"sk-estimator-id-7\" class=\"sk-toggleable__label sk-toggleable__label-arrow\">DropCorrelatedFeatures</label><div class=\"sk-toggleable__content\"><pre>DropCorrelatedFeatures()</pre></div></div></div></div></div>"
     },
     "execution_count": 35,
     "metadata": {},
     "output_type": "execute_result"
    }
   ],
   "source": [
    "# set up the selector\n",
    "\n",
    "sel = DropCorrelatedFeatures(\n",
    "    threshold=0.8,\n",
    "    method='pearson',\n",
    "    missing_values='ignore'\n",
    ")\n",
    "\n",
    "\n",
    "# find correlated features\n",
    "\n",
    "sel.fit(X_train_trans)"
   ]
  },
  {
   "cell_type": "code",
   "execution_count": 36,
   "id": "d84b878f",
   "metadata": {},
   "outputs": [
    {
     "data": {
      "text/plain": "[{'Category_TOOLS', 'Genres_Tools'}, {'Type_Free', 'Type_Paid'}]"
     },
     "execution_count": 36,
     "metadata": {},
     "output_type": "execute_result"
    }
   ],
   "source": [
    "# each set contains a group of correlated features\n",
    "\n",
    "sel.correlated_feature_sets_"
   ]
  },
  {
   "cell_type": "code",
   "execution_count": 37,
   "id": "0316cf7d",
   "metadata": {},
   "outputs": [
    {
     "data": {
      "text/plain": "2"
     },
     "execution_count": 37,
     "metadata": {},
     "output_type": "execute_result"
    }
   ],
   "source": [
    "# the transformer selects 1 feature from each group.\n",
    "# the rest will be removed and can be found in this attribute\n",
    "\n",
    "len(sel.features_to_drop_)"
   ]
  },
  {
   "cell_type": "code",
   "execution_count": 38,
   "id": "5489a792",
   "metadata": {},
   "outputs": [
    {
     "name": "stdout",
     "output_type": "stream",
     "text": [
      "Die formate vor der Transformation sind: (8672, 76)\n",
      "Die formate nach der Transformation sind: (8672, 19)\n"
     ]
    }
   ],
   "source": [
    "# drop correlated features\n",
    "\n",
    "X_train_trans_brut = sel.transform(X_train_trans)\n",
    "X_test_trans_brut = sel.transform(X_test_trans)\n",
    "\n",
    "print(\"Die formate vor der Transformation sind: {}\".format(X_train.shape))\n",
    "print(\"Die formate nach der Transformation sind: {}\".format(X_train_trans_brut.shape))"
   ]
  },
  {
   "cell_type": "markdown",
   "id": "c3f3df8a",
   "metadata": {},
   "source": [
    "### Smart Method\n",
    "Hier werden wir nun die smartere Methode mit der Varianz sehen."
   ]
  },
  {
   "cell_type": "code",
   "execution_count": 39,
   "id": "b1d8a917",
   "metadata": {},
   "outputs": [
    {
     "data": {
      "text/plain": "SmartCorrelatedSelection(missing_values='raise', selection_method='variance')",
      "text/html": "<style>#sk-container-id-8 {color: black;background-color: white;}#sk-container-id-8 pre{padding: 0;}#sk-container-id-8 div.sk-toggleable {background-color: white;}#sk-container-id-8 label.sk-toggleable__label {cursor: pointer;display: block;width: 100%;margin-bottom: 0;padding: 0.3em;box-sizing: border-box;text-align: center;}#sk-container-id-8 label.sk-toggleable__label-arrow:before {content: \"▸\";float: left;margin-right: 0.25em;color: #696969;}#sk-container-id-8 label.sk-toggleable__label-arrow:hover:before {color: black;}#sk-container-id-8 div.sk-estimator:hover label.sk-toggleable__label-arrow:before {color: black;}#sk-container-id-8 div.sk-toggleable__content {max-height: 0;max-width: 0;overflow: hidden;text-align: left;background-color: #f0f8ff;}#sk-container-id-8 div.sk-toggleable__content pre {margin: 0.2em;color: black;border-radius: 0.25em;background-color: #f0f8ff;}#sk-container-id-8 input.sk-toggleable__control:checked~div.sk-toggleable__content {max-height: 200px;max-width: 100%;overflow: auto;}#sk-container-id-8 input.sk-toggleable__control:checked~label.sk-toggleable__label-arrow:before {content: \"▾\";}#sk-container-id-8 div.sk-estimator input.sk-toggleable__control:checked~label.sk-toggleable__label {background-color: #d4ebff;}#sk-container-id-8 div.sk-label input.sk-toggleable__control:checked~label.sk-toggleable__label {background-color: #d4ebff;}#sk-container-id-8 input.sk-hidden--visually {border: 0;clip: rect(1px 1px 1px 1px);clip: rect(1px, 1px, 1px, 1px);height: 1px;margin: -1px;overflow: hidden;padding: 0;position: absolute;width: 1px;}#sk-container-id-8 div.sk-estimator {font-family: monospace;background-color: #f0f8ff;border: 1px dotted black;border-radius: 0.25em;box-sizing: border-box;margin-bottom: 0.5em;}#sk-container-id-8 div.sk-estimator:hover {background-color: #d4ebff;}#sk-container-id-8 div.sk-parallel-item::after {content: \"\";width: 100%;border-bottom: 1px solid gray;flex-grow: 1;}#sk-container-id-8 div.sk-label:hover label.sk-toggleable__label {background-color: #d4ebff;}#sk-container-id-8 div.sk-serial::before {content: \"\";position: absolute;border-left: 1px solid gray;box-sizing: border-box;top: 0;bottom: 0;left: 50%;z-index: 0;}#sk-container-id-8 div.sk-serial {display: flex;flex-direction: column;align-items: center;background-color: white;padding-right: 0.2em;padding-left: 0.2em;position: relative;}#sk-container-id-8 div.sk-item {position: relative;z-index: 1;}#sk-container-id-8 div.sk-parallel {display: flex;align-items: stretch;justify-content: center;background-color: white;position: relative;}#sk-container-id-8 div.sk-item::before, #sk-container-id-8 div.sk-parallel-item::before {content: \"\";position: absolute;border-left: 1px solid gray;box-sizing: border-box;top: 0;bottom: 0;left: 50%;z-index: -1;}#sk-container-id-8 div.sk-parallel-item {display: flex;flex-direction: column;z-index: 1;position: relative;background-color: white;}#sk-container-id-8 div.sk-parallel-item:first-child::after {align-self: flex-end;width: 50%;}#sk-container-id-8 div.sk-parallel-item:last-child::after {align-self: flex-start;width: 50%;}#sk-container-id-8 div.sk-parallel-item:only-child::after {width: 0;}#sk-container-id-8 div.sk-dashed-wrapped {border: 1px dashed gray;margin: 0 0.4em 0.5em 0.4em;box-sizing: border-box;padding-bottom: 0.4em;background-color: white;}#sk-container-id-8 div.sk-label label {font-family: monospace;font-weight: bold;display: inline-block;line-height: 1.2em;}#sk-container-id-8 div.sk-label-container {text-align: center;}#sk-container-id-8 div.sk-container {/* jupyter's `normalize.less` sets `[hidden] { display: none; }` but bootstrap.min.css set `[hidden] { display: none !important; }` so we also need the `!important` here to be able to override the default hidden behavior on the sphinx rendered scikit-learn.org. See: https://github.com/scikit-learn/scikit-learn/issues/21755 */display: inline-block !important;position: relative;}#sk-container-id-8 div.sk-text-repr-fallback {display: none;}</style><div id=\"sk-container-id-8\" class=\"sk-top-container\"><div class=\"sk-text-repr-fallback\"><pre>SmartCorrelatedSelection(missing_values=&#x27;raise&#x27;, selection_method=&#x27;variance&#x27;)</pre><b>In a Jupyter environment, please rerun this cell to show the HTML representation or trust the notebook. <br />On GitHub, the HTML representation is unable to render, please try loading this page with nbviewer.org.</b></div><div class=\"sk-container\" hidden><div class=\"sk-item\"><div class=\"sk-estimator sk-toggleable\"><input class=\"sk-toggleable__control sk-hidden--visually\" id=\"sk-estimator-id-8\" type=\"checkbox\" checked><label for=\"sk-estimator-id-8\" class=\"sk-toggleable__label sk-toggleable__label-arrow\">SmartCorrelatedSelection</label><div class=\"sk-toggleable__content\"><pre>SmartCorrelatedSelection(missing_values=&#x27;raise&#x27;, selection_method=&#x27;variance&#x27;)</pre></div></div></div></div></div>"
     },
     "execution_count": 39,
     "metadata": {},
     "output_type": "execute_result"
    }
   ],
   "source": [
    "# correlation selector\n",
    "\n",
    "sel = SmartCorrelatedSelection(\n",
    "    variables=None,\n",
    "    method=\"pearson\",\n",
    "    threshold=0.8,\n",
    "    missing_values=\"raise\",\n",
    "    selection_method=\"variance\",\n",
    "    estimator=None,\n",
    "    scoring=\"roc_auc\",\n",
    "    cv=3,\n",
    ")\n",
    "\n",
    "sel.fit(X_train_trans, ytrain)"
   ]
  },
  {
   "cell_type": "code",
   "execution_count": 40,
   "id": "f7efa473",
   "metadata": {},
   "outputs": [
    {
     "data": {
      "text/plain": "[{'Category_TOOLS', 'Genres_Tools'}, {'Type_Free', 'Type_Paid'}]"
     },
     "execution_count": 40,
     "metadata": {},
     "output_type": "execute_result"
    }
   ],
   "source": [
    "sel.correlated_feature_sets_"
   ]
  },
  {
   "cell_type": "code",
   "execution_count": 41,
   "id": "85429166",
   "metadata": {},
   "outputs": [
    {
     "name": "stderr",
     "output_type": "stream",
     "text": [
      "C:\\Users\\buech\\AppData\\Local\\Temp\\ipykernel_18988\\2458210473.py:6: FutureWarning: Passing a set as an indexer is deprecated and will raise in a future version. Use a list instead.\n",
      "  X_train_trans[group].std()\n"
     ]
    },
    {
     "data": {
      "text/plain": "Category_TOOLS    0.270994\nGenres_Tools      0.270815\ndtype: float64"
     },
     "execution_count": 41,
     "metadata": {},
     "output_type": "execute_result"
    }
   ],
   "source": [
    "# let's examine the variance of the features from the second group of\n",
    "# correlated ones\n",
    "\n",
    "group = sel.correlated_feature_sets_[0]\n",
    "\n",
    "X_train_trans[group].std()"
   ]
  },
  {
   "cell_type": "code",
   "execution_count": 42,
   "id": "a89f6759",
   "metadata": {},
   "outputs": [
    {
     "name": "stderr",
     "output_type": "stream",
     "text": [
      "C:\\Users\\buech\\AppData\\Local\\Temp\\ipykernel_18988\\1933514857.py:6: FutureWarning: Passing a set as an indexer is deprecated and will raise in a future version. Use a list instead.\n",
      "  X_train_trans[group].std()\n"
     ]
    },
    {
     "data": {
      "text/plain": "Type_Free    0.263704\nType_Paid    0.263704\ndtype: float64"
     },
     "execution_count": 42,
     "metadata": {},
     "output_type": "execute_result"
    }
   ],
   "source": [
    "# let's examine the variance of the features from the second group of\n",
    "# correlated ones\n",
    "\n",
    "group = sel.correlated_feature_sets_[1]\n",
    "\n",
    "X_train_trans[group].std()"
   ]
  },
  {
   "cell_type": "code",
   "execution_count": 43,
   "id": "86e39f21",
   "metadata": {},
   "outputs": [
    {
     "data": {
      "text/plain": "(8672, 21)"
     },
     "execution_count": 43,
     "metadata": {},
     "output_type": "execute_result"
    }
   ],
   "source": [
    "X_train_trans.shape"
   ]
  },
  {
   "cell_type": "code",
   "execution_count": 44,
   "id": "25478c70",
   "metadata": {},
   "outputs": [],
   "source": [
    "X_train_trans_smart= sel.transform(X_train_trans)\n",
    "X_test_trans_smart= sel.transform(X_test_trans)"
   ]
  },
  {
   "cell_type": "code",
   "execution_count": 45,
   "id": "d7e431d2",
   "metadata": {},
   "outputs": [
    {
     "data": {
      "text/plain": "(8672, 19)"
     },
     "execution_count": 45,
     "metadata": {},
     "output_type": "execute_result"
    }
   ],
   "source": [
    "X_train_trans_smart.shape"
   ]
  },
  {
   "cell_type": "markdown",
   "id": "88eb6a00",
   "metadata": {},
   "source": [
    "## Speicherung der Daten"
   ]
  },
  {
   "cell_type": "code",
   "execution_count": 46,
   "id": "3ed13b75",
   "metadata": {},
   "outputs": [],
   "source": [
    "X_train_trans_smart.to_csv(\"Xtrain_feature_sel.csv\",index=False)\n",
    "X_test_trans_smart.to_csv(\"Xtest_feature_sel.csv\",index=False)"
   ]
  }
 ],
 "metadata": {
  "kernelspec": {
   "display_name": "Python 3 (ipykernel)",
   "language": "python",
   "name": "python3"
  },
  "language_info": {
   "codemirror_mode": {
    "name": "ipython",
    "version": 3
   },
   "file_extension": ".py",
   "mimetype": "text/x-python",
   "name": "python",
   "nbconvert_exporter": "python",
   "pygments_lexer": "ipython3",
   "version": "3.10.6"
  }
 },
 "nbformat": 4,
 "nbformat_minor": 5
}
