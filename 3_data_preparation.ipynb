{
 "cells": [
  {
   "attachments": {},
   "cell_type": "markdown",
   "metadata": {},
   "source": [
    "# Categorical Data Preparation\n",
    "Computer können nicht mit kategorischen Variablen arbeiten. Daher müssen wir die kategorischen Variablen in numerische Werte umformen um mit Ihnen weiterarbeiten zu können. Diese Aufbereitung behandeln wir in diesem Notebook."
   ]
  },
  {
   "cell_type": "code",
   "execution_count": 114,
   "metadata": {},
   "outputs": [],
   "source": [
    "import pandas as pd\n",
    "from feature_engine.encoding import RareLabelEncoder, OneHotEncoder, CountFrequencyEncoder"
   ]
  },
  {
   "attachments": {},
   "cell_type": "markdown",
   "metadata": {},
   "source": [
    "## Loading Data"
   ]
  },
  {
   "cell_type": "code",
   "execution_count": 115,
   "metadata": {},
   "outputs": [
    {
     "name": "stdout",
     "output_type": "stream",
     "text": [
      "Shape of X Train: (8672, 9)\n",
      "Shape of X Test: (2168, 9)\n",
      "Shape of y Train: (8672, 1)\n",
      "Shape of y Test: (2168, 1)\n"
     ]
    }
   ],
   "source": [
    "X_train = pd.read_csv(\"Xtrain_mod.csv\")\n",
    "X_test = pd.read_csv(\"Xtest_mod.csv\")\n",
    "ytrain = pd.read_csv(\"ytrain.csv\")\n",
    "ytest = pd.read_csv(\"ytest.csv\")\n",
    "print(\"Shape of X Train: {}\".format(X_train.shape))\n",
    "print(\"Shape of X Test: {}\".format(X_test.shape))\n",
    "print(\"Shape of y Train: {}\".format(ytrain.shape))\n",
    "print(\"Shape of y Test: {}\".format(ytest.shape))"
   ]
  },
  {
   "cell_type": "code",
   "execution_count": 116,
   "metadata": {},
   "outputs": [
    {
     "name": "stdout",
     "output_type": "stream",
     "text": [
      "<class 'pandas.core.frame.DataFrame'>\n",
      "RangeIndex: 8672 entries, 0 to 8671\n",
      "Data columns (total 9 columns):\n",
      " #   Column             Non-Null Count  Dtype  \n",
      "---  ------             --------------  -----  \n",
      " 0   Category           8672 non-null   object \n",
      " 1   Rating             8672 non-null   float64\n",
      " 2   Reviews            8672 non-null   int64  \n",
      " 3   Size               8672 non-null   object \n",
      " 4   Type               8672 non-null   object \n",
      " 5   Price              8672 non-null   float64\n",
      " 6   Content Rating     8672 non-null   object \n",
      " 7   Genres             8672 non-null   object \n",
      " 8   days_since_update  8672 non-null   int64  \n",
      "dtypes: float64(2), int64(2), object(5)\n",
      "memory usage: 609.9+ KB\n"
     ]
    }
   ],
   "source": [
    "X_train.info()"
   ]
  },
  {
   "attachments": {},
   "cell_type": "markdown",
   "metadata": {},
   "source": [
    "## Categorical Variables\n",
    "Nun wollen wir vertieft anschauen, wie die kategorischen Variablen aussehen."
   ]
  },
  {
   "cell_type": "code",
   "execution_count": 117,
   "metadata": {},
   "outputs": [],
   "source": [
    "X_train_cat = X_train.select_dtypes(include=['object'])"
   ]
  },
  {
   "cell_type": "code",
   "execution_count": 118,
   "metadata": {},
   "outputs": [
    {
     "name": "stdout",
     "output_type": "stream",
     "text": [
      "Category: 33\n",
      "Size: 11\n",
      "Type: 2\n",
      "Content Rating: 6\n",
      "Genres: 119\n"
     ]
    }
   ],
   "source": [
    "for col in X_train_cat:\n",
    "    cardinality = len(pd.Index(X_train[col].value_counts()))\n",
    "    print(X_train[col].name + \": \" + str(cardinality))"
   ]
  },
  {
   "attachments": {},
   "cell_type": "markdown",
   "metadata": {},
   "source": [
    "## Rare Label Encoder\n",
    "Nun bereiten wir in einem ersten Schritt die seltene Kategorien auf."
   ]
  },
  {
   "cell_type": "code",
   "execution_count": 119,
   "metadata": {},
   "outputs": [
    {
     "name": "stderr",
     "output_type": "stream",
     "text": [
      "C:\\Users\\buech\\AppData\\Local\\Programs\\Python\\Python311\\Lib\\site-packages\\feature_engine\\encoding\\rare_label.py:199: UserWarning: The number of unique categories for variable Type is less than that indicated in n_categories. Thus, all categories will be considered frequent\n",
      "  warnings.warn(\n"
     ]
    },
    {
     "data": {
      "text/plain": "RareLabelEncoder(n_categories=4, tol=0.01)",
      "text/html": "<style>#sk-container-id-17 {color: black;background-color: white;}#sk-container-id-17 pre{padding: 0;}#sk-container-id-17 div.sk-toggleable {background-color: white;}#sk-container-id-17 label.sk-toggleable__label {cursor: pointer;display: block;width: 100%;margin-bottom: 0;padding: 0.3em;box-sizing: border-box;text-align: center;}#sk-container-id-17 label.sk-toggleable__label-arrow:before {content: \"▸\";float: left;margin-right: 0.25em;color: #696969;}#sk-container-id-17 label.sk-toggleable__label-arrow:hover:before {color: black;}#sk-container-id-17 div.sk-estimator:hover label.sk-toggleable__label-arrow:before {color: black;}#sk-container-id-17 div.sk-toggleable__content {max-height: 0;max-width: 0;overflow: hidden;text-align: left;background-color: #f0f8ff;}#sk-container-id-17 div.sk-toggleable__content pre {margin: 0.2em;color: black;border-radius: 0.25em;background-color: #f0f8ff;}#sk-container-id-17 input.sk-toggleable__control:checked~div.sk-toggleable__content {max-height: 200px;max-width: 100%;overflow: auto;}#sk-container-id-17 input.sk-toggleable__control:checked~label.sk-toggleable__label-arrow:before {content: \"▾\";}#sk-container-id-17 div.sk-estimator input.sk-toggleable__control:checked~label.sk-toggleable__label {background-color: #d4ebff;}#sk-container-id-17 div.sk-label input.sk-toggleable__control:checked~label.sk-toggleable__label {background-color: #d4ebff;}#sk-container-id-17 input.sk-hidden--visually {border: 0;clip: rect(1px 1px 1px 1px);clip: rect(1px, 1px, 1px, 1px);height: 1px;margin: -1px;overflow: hidden;padding: 0;position: absolute;width: 1px;}#sk-container-id-17 div.sk-estimator {font-family: monospace;background-color: #f0f8ff;border: 1px dotted black;border-radius: 0.25em;box-sizing: border-box;margin-bottom: 0.5em;}#sk-container-id-17 div.sk-estimator:hover {background-color: #d4ebff;}#sk-container-id-17 div.sk-parallel-item::after {content: \"\";width: 100%;border-bottom: 1px solid gray;flex-grow: 1;}#sk-container-id-17 div.sk-label:hover label.sk-toggleable__label {background-color: #d4ebff;}#sk-container-id-17 div.sk-serial::before {content: \"\";position: absolute;border-left: 1px solid gray;box-sizing: border-box;top: 0;bottom: 0;left: 50%;z-index: 0;}#sk-container-id-17 div.sk-serial {display: flex;flex-direction: column;align-items: center;background-color: white;padding-right: 0.2em;padding-left: 0.2em;position: relative;}#sk-container-id-17 div.sk-item {position: relative;z-index: 1;}#sk-container-id-17 div.sk-parallel {display: flex;align-items: stretch;justify-content: center;background-color: white;position: relative;}#sk-container-id-17 div.sk-item::before, #sk-container-id-17 div.sk-parallel-item::before {content: \"\";position: absolute;border-left: 1px solid gray;box-sizing: border-box;top: 0;bottom: 0;left: 50%;z-index: -1;}#sk-container-id-17 div.sk-parallel-item {display: flex;flex-direction: column;z-index: 1;position: relative;background-color: white;}#sk-container-id-17 div.sk-parallel-item:first-child::after {align-self: flex-end;width: 50%;}#sk-container-id-17 div.sk-parallel-item:last-child::after {align-self: flex-start;width: 50%;}#sk-container-id-17 div.sk-parallel-item:only-child::after {width: 0;}#sk-container-id-17 div.sk-dashed-wrapped {border: 1px dashed gray;margin: 0 0.4em 0.5em 0.4em;box-sizing: border-box;padding-bottom: 0.4em;background-color: white;}#sk-container-id-17 div.sk-label label {font-family: monospace;font-weight: bold;display: inline-block;line-height: 1.2em;}#sk-container-id-17 div.sk-label-container {text-align: center;}#sk-container-id-17 div.sk-container {/* jupyter's `normalize.less` sets `[hidden] { display: none; }` but bootstrap.min.css set `[hidden] { display: none !important; }` so we also need the `!important` here to be able to override the default hidden behavior on the sphinx rendered scikit-learn.org. See: https://github.com/scikit-learn/scikit-learn/issues/21755 */display: inline-block !important;position: relative;}#sk-container-id-17 div.sk-text-repr-fallback {display: none;}</style><div id=\"sk-container-id-17\" class=\"sk-top-container\"><div class=\"sk-text-repr-fallback\"><pre>RareLabelEncoder(n_categories=4, tol=0.01)</pre><b>In a Jupyter environment, please rerun this cell to show the HTML representation or trust the notebook. <br />On GitHub, the HTML representation is unable to render, please try loading this page with nbviewer.org.</b></div><div class=\"sk-container\" hidden><div class=\"sk-item\"><div class=\"sk-estimator sk-toggleable\"><input class=\"sk-toggleable__control sk-hidden--visually\" id=\"sk-estimator-id-17\" type=\"checkbox\" checked><label for=\"sk-estimator-id-17\" class=\"sk-toggleable__label sk-toggleable__label-arrow\">RareLabelEncoder</label><div class=\"sk-toggleable__content\"><pre>RareLabelEncoder(n_categories=4, tol=0.01)</pre></div></div></div></div></div>"
     },
     "execution_count": 119,
     "metadata": {},
     "output_type": "execute_result"
    }
   ],
   "source": [
    "rare_encoder = RareLabelEncoder(\n",
    "    tol=0.01, # the minimum frequency a label should have to be considered frequent. Categories with frequencies lower than tol will be grouped.\n",
    "    n_categories=4, # the minimum number of categories a variable should have for the encoder to find frequent labels. If the variable contains less categories, all of them will be considered frequent.\n",
    ")\n",
    "rare_encoder.fit(X_train)"
   ]
  },
  {
   "cell_type": "code",
   "execution_count": 120,
   "metadata": {},
   "outputs": [
    {
     "data": {
      "text/plain": "['Category', 'Size', 'Type', 'Content Rating', 'Genres']"
     },
     "execution_count": 120,
     "metadata": {},
     "output_type": "execute_result"
    }
   ],
   "source": [
    "rare_encoder.variables_"
   ]
  },
  {
   "cell_type": "code",
   "execution_count": 121,
   "metadata": {},
   "outputs": [
    {
     "data": {
      "text/plain": "{'Category': Index(['FAMILY', 'GAME', 'TOOLS', 'MEDICAL', 'BUSINESS', 'PRODUCTIVITY',\n        'PERSONALIZATION', 'COMMUNICATION', 'LIFESTYLE', 'SPORTS',\n        'HEALTH_AND_FITNESS', 'FINANCE', 'PHOTOGRAPHY', 'SOCIAL',\n        'NEWS_AND_MAGAZINES', 'SHOPPING', 'TRAVEL_AND_LOCAL', 'DATING',\n        'BOOKS_AND_REFERENCE', 'EDUCATION', 'ENTERTAINMENT', 'VIDEO_PLAYERS',\n        'MAPS_AND_NAVIGATION', 'FOOD_AND_DRINK'],\n       dtype='object'),\n 'Size': Index(['0.1-10MB', 'Varies with device', '10.1-20MB', '20.1-30MB', '30.1-40MB',\n        '40.1-50MB', '50.1-60MB', '60.1-70MB', '90.1-100MB', '70.1-80MB',\n        '80.1-90MB'],\n       dtype='object'),\n 'Type': array(['Free', 'Paid'], dtype=object),\n 'Content Rating': Index(['Everyone', 'Teen', 'Mature 17+', 'Everyone 10+'], dtype='object'),\n 'Genres': Index(['Tools', 'Entertainment', 'Education', 'Medical', 'Business',\n        'Productivity', 'Personalization', 'Communication', 'Sports',\n        'Lifestyle', 'Action', 'Health & Fitness', 'Finance', 'Photography',\n        'Social', 'News & Magazines', 'Shopping', 'Travel & Local', 'Dating',\n        'Books & Reference', 'Arcade', 'Simulation', 'Casual',\n        'Video Players & Editors', 'Puzzle', 'Maps & Navigation',\n        'Food & Drink', 'Role Playing'],\n       dtype='object')}"
     },
     "execution_count": 121,
     "metadata": {},
     "output_type": "execute_result"
    }
   ],
   "source": [
    "# the encoder_dict_ is a dictionary of variable: frequent labels pair\n",
    "rare_encoder.encoder_dict_"
   ]
  },
  {
   "cell_type": "code",
   "execution_count": 122,
   "metadata": {},
   "outputs": [],
   "source": [
    "X_train_t = rare_encoder.transform(X_train)\n",
    "X_test_t = rare_encoder.transform(X_test)"
   ]
  },
  {
   "cell_type": "code",
   "execution_count": 123,
   "metadata": {},
   "outputs": [
    {
     "name": "stdout",
     "output_type": "stream",
     "text": [
      "Category: 25\n",
      "Size: 11\n",
      "Type: 2\n",
      "Content Rating: 5\n",
      "Genres: 29\n"
     ]
    }
   ],
   "source": [
    "X_train_t_cat = X_train_t.select_dtypes(include=['object'])\n",
    "for col in X_train_t_cat:\n",
    "    cardinality = len(pd.Index(X_train_t_cat[col].value_counts()))\n",
    "    print(X_train_t_cat[col].name + \": \" + str(cardinality))"
   ]
  },
  {
   "attachments": {},
   "cell_type": "markdown",
   "metadata": {},
   "source": [
    "## One-Hot Encoding\n",
    "In diesem Schritt wenden wir das One-Hot Encoding an"
   ]
  },
  {
   "attachments": {},
   "cell_type": "markdown",
   "metadata": {},
   "source": [
    "### k One-hot Encoding"
   ]
  },
  {
   "cell_type": "code",
   "execution_count": 124,
   "metadata": {},
   "outputs": [],
   "source": [
    "# set up encoder\n",
    "\n",
    "encoder = OneHotEncoder(\n",
    "    variables=None,  # alternatively pass a list of variables\n",
    "    top_categories=None,\n",
    "    drop_last=False,  # to return k-1, use drop=false to return k dummies\n",
    ")"
   ]
  },
  {
   "cell_type": "code",
   "execution_count": 125,
   "metadata": {},
   "outputs": [
    {
     "data": {
      "text/plain": "OneHotEncoder()",
      "text/html": "<style>#sk-container-id-18 {color: black;background-color: white;}#sk-container-id-18 pre{padding: 0;}#sk-container-id-18 div.sk-toggleable {background-color: white;}#sk-container-id-18 label.sk-toggleable__label {cursor: pointer;display: block;width: 100%;margin-bottom: 0;padding: 0.3em;box-sizing: border-box;text-align: center;}#sk-container-id-18 label.sk-toggleable__label-arrow:before {content: \"▸\";float: left;margin-right: 0.25em;color: #696969;}#sk-container-id-18 label.sk-toggleable__label-arrow:hover:before {color: black;}#sk-container-id-18 div.sk-estimator:hover label.sk-toggleable__label-arrow:before {color: black;}#sk-container-id-18 div.sk-toggleable__content {max-height: 0;max-width: 0;overflow: hidden;text-align: left;background-color: #f0f8ff;}#sk-container-id-18 div.sk-toggleable__content pre {margin: 0.2em;color: black;border-radius: 0.25em;background-color: #f0f8ff;}#sk-container-id-18 input.sk-toggleable__control:checked~div.sk-toggleable__content {max-height: 200px;max-width: 100%;overflow: auto;}#sk-container-id-18 input.sk-toggleable__control:checked~label.sk-toggleable__label-arrow:before {content: \"▾\";}#sk-container-id-18 div.sk-estimator input.sk-toggleable__control:checked~label.sk-toggleable__label {background-color: #d4ebff;}#sk-container-id-18 div.sk-label input.sk-toggleable__control:checked~label.sk-toggleable__label {background-color: #d4ebff;}#sk-container-id-18 input.sk-hidden--visually {border: 0;clip: rect(1px 1px 1px 1px);clip: rect(1px, 1px, 1px, 1px);height: 1px;margin: -1px;overflow: hidden;padding: 0;position: absolute;width: 1px;}#sk-container-id-18 div.sk-estimator {font-family: monospace;background-color: #f0f8ff;border: 1px dotted black;border-radius: 0.25em;box-sizing: border-box;margin-bottom: 0.5em;}#sk-container-id-18 div.sk-estimator:hover {background-color: #d4ebff;}#sk-container-id-18 div.sk-parallel-item::after {content: \"\";width: 100%;border-bottom: 1px solid gray;flex-grow: 1;}#sk-container-id-18 div.sk-label:hover label.sk-toggleable__label {background-color: #d4ebff;}#sk-container-id-18 div.sk-serial::before {content: \"\";position: absolute;border-left: 1px solid gray;box-sizing: border-box;top: 0;bottom: 0;left: 50%;z-index: 0;}#sk-container-id-18 div.sk-serial {display: flex;flex-direction: column;align-items: center;background-color: white;padding-right: 0.2em;padding-left: 0.2em;position: relative;}#sk-container-id-18 div.sk-item {position: relative;z-index: 1;}#sk-container-id-18 div.sk-parallel {display: flex;align-items: stretch;justify-content: center;background-color: white;position: relative;}#sk-container-id-18 div.sk-item::before, #sk-container-id-18 div.sk-parallel-item::before {content: \"\";position: absolute;border-left: 1px solid gray;box-sizing: border-box;top: 0;bottom: 0;left: 50%;z-index: -1;}#sk-container-id-18 div.sk-parallel-item {display: flex;flex-direction: column;z-index: 1;position: relative;background-color: white;}#sk-container-id-18 div.sk-parallel-item:first-child::after {align-self: flex-end;width: 50%;}#sk-container-id-18 div.sk-parallel-item:last-child::after {align-self: flex-start;width: 50%;}#sk-container-id-18 div.sk-parallel-item:only-child::after {width: 0;}#sk-container-id-18 div.sk-dashed-wrapped {border: 1px dashed gray;margin: 0 0.4em 0.5em 0.4em;box-sizing: border-box;padding-bottom: 0.4em;background-color: white;}#sk-container-id-18 div.sk-label label {font-family: monospace;font-weight: bold;display: inline-block;line-height: 1.2em;}#sk-container-id-18 div.sk-label-container {text-align: center;}#sk-container-id-18 div.sk-container {/* jupyter's `normalize.less` sets `[hidden] { display: none; }` but bootstrap.min.css set `[hidden] { display: none !important; }` so we also need the `!important` here to be able to override the default hidden behavior on the sphinx rendered scikit-learn.org. See: https://github.com/scikit-learn/scikit-learn/issues/21755 */display: inline-block !important;position: relative;}#sk-container-id-18 div.sk-text-repr-fallback {display: none;}</style><div id=\"sk-container-id-18\" class=\"sk-top-container\"><div class=\"sk-text-repr-fallback\"><pre>OneHotEncoder()</pre><b>In a Jupyter environment, please rerun this cell to show the HTML representation or trust the notebook. <br />On GitHub, the HTML representation is unable to render, please try loading this page with nbviewer.org.</b></div><div class=\"sk-container\" hidden><div class=\"sk-item\"><div class=\"sk-estimator sk-toggleable\"><input class=\"sk-toggleable__control sk-hidden--visually\" id=\"sk-estimator-id-18\" type=\"checkbox\" checked><label for=\"sk-estimator-id-18\" class=\"sk-toggleable__label sk-toggleable__label-arrow\">OneHotEncoder</label><div class=\"sk-toggleable__content\"><pre>OneHotEncoder()</pre></div></div></div></div></div>"
     },
     "execution_count": 125,
     "metadata": {},
     "output_type": "execute_result"
    }
   ],
   "source": [
    "# fit the encoder (finds categories)\n",
    "\n",
    "encoder.fit(X_train_t)"
   ]
  },
  {
   "cell_type": "code",
   "execution_count": 126,
   "metadata": {},
   "outputs": [
    {
     "data": {
      "text/plain": "['Category', 'Size', 'Type', 'Content Rating', 'Genres']"
     },
     "execution_count": 126,
     "metadata": {},
     "output_type": "execute_result"
    }
   ],
   "source": [
    "# automatically found numerical variables\n",
    "\n",
    "encoder.variables_"
   ]
  },
  {
   "cell_type": "code",
   "execution_count": 127,
   "metadata": {},
   "outputs": [
    {
     "data": {
      "text/plain": "{'Category': ['TRAVEL_AND_LOCAL',\n  'VIDEO_PLAYERS',\n  'FINANCE',\n  'FAMILY',\n  'MEDICAL',\n  'GAME',\n  'SOCIAL',\n  'PERSONALIZATION',\n  'PHOTOGRAPHY',\n  'MAPS_AND_NAVIGATION',\n  'HEALTH_AND_FITNESS',\n  'COMMUNICATION',\n  'Rare',\n  'DATING',\n  'TOOLS',\n  'LIFESTYLE',\n  'BUSINESS',\n  'PRODUCTIVITY',\n  'BOOKS_AND_REFERENCE',\n  'SHOPPING',\n  'EDUCATION',\n  'NEWS_AND_MAGAZINES',\n  'SPORTS',\n  'FOOD_AND_DRINK',\n  'ENTERTAINMENT'],\n 'Size': ['Varies with device',\n  '0.1-10MB',\n  '40.1-50MB',\n  '10.1-20MB',\n  '90.1-100MB',\n  '50.1-60MB',\n  '80.1-90MB',\n  '30.1-40MB',\n  '60.1-70MB',\n  '20.1-30MB',\n  '70.1-80MB'],\n 'Type': ['Free', 'Paid'],\n 'Content Rating': ['Everyone', 'Teen', 'Everyone 10+', 'Mature 17+', 'Rare'],\n 'Genres': ['Travel & Local',\n  'Video Players & Editors',\n  'Finance',\n  'Entertainment',\n  'Role Playing',\n  'Rare',\n  'Medical',\n  'Arcade',\n  'Education',\n  'Social',\n  'Personalization',\n  'Photography',\n  'Maps & Navigation',\n  'Health & Fitness',\n  'Communication',\n  'Dating',\n  'Tools',\n  'Lifestyle',\n  'Business',\n  'Productivity',\n  'Books & Reference',\n  'Shopping',\n  'Puzzle',\n  'Casual',\n  'News & Magazines',\n  'Sports',\n  'Action',\n  'Simulation',\n  'Food & Drink']}"
     },
     "execution_count": 127,
     "metadata": {},
     "output_type": "execute_result"
    }
   ],
   "source": [
    "# we observe the learned categories\n",
    "\n",
    "encoder.encoder_dict_"
   ]
  },
  {
   "cell_type": "code",
   "execution_count": 128,
   "metadata": {},
   "outputs": [
    {
     "data": {
      "text/plain": "   Rating  Reviews  Price  days_since_update  Category_TRAVEL_AND_LOCAL  \\\n0     4.4    17915    0.0                 44                          1   \n1     3.7      321    0.0                535                          0   \n2     5.0       12    0.0               1821                          0   \n3     4.7      303    0.0                 40                          0   \n4     4.5    80904    0.0                 57                          0   \n\n   Category_VIDEO_PLAYERS  Category_FINANCE  Category_FAMILY  \\\n0                       0                 0                0   \n1                       1                 0                0   \n2                       0                 1                0   \n3                       0                 0                1   \n4                       0                 1                0   \n\n   Category_MEDICAL  Category_GAME  ...  Genres_Productivity  \\\n0                 0              0  ...                    0   \n1                 0              0  ...                    0   \n2                 0              0  ...                    0   \n3                 0              0  ...                    0   \n4                 0              0  ...                    0   \n\n   Genres_Books & Reference  Genres_Shopping  Genres_Puzzle  Genres_Casual  \\\n0                         0                0              0              0   \n1                         0                0              0              0   \n2                         0                0              0              0   \n3                         0                0              0              0   \n4                         0                0              0              0   \n\n   Genres_News & Magazines  Genres_Sports  Genres_Action  Genres_Simulation  \\\n0                        0              0              0                  0   \n1                        0              0              0                  0   \n2                        0              0              0                  0   \n3                        0              0              0                  0   \n4                        0              0              0                  0   \n\n   Genres_Food & Drink  \n0                    0  \n1                    0  \n2                    0  \n3                    0  \n4                    0  \n\n[5 rows x 76 columns]",
      "text/html": "<div>\n<style scoped>\n    .dataframe tbody tr th:only-of-type {\n        vertical-align: middle;\n    }\n\n    .dataframe tbody tr th {\n        vertical-align: top;\n    }\n\n    .dataframe thead th {\n        text-align: right;\n    }\n</style>\n<table border=\"1\" class=\"dataframe\">\n  <thead>\n    <tr style=\"text-align: right;\">\n      <th></th>\n      <th>Rating</th>\n      <th>Reviews</th>\n      <th>Price</th>\n      <th>days_since_update</th>\n      <th>Category_TRAVEL_AND_LOCAL</th>\n      <th>Category_VIDEO_PLAYERS</th>\n      <th>Category_FINANCE</th>\n      <th>Category_FAMILY</th>\n      <th>Category_MEDICAL</th>\n      <th>Category_GAME</th>\n      <th>...</th>\n      <th>Genres_Productivity</th>\n      <th>Genres_Books &amp; Reference</th>\n      <th>Genres_Shopping</th>\n      <th>Genres_Puzzle</th>\n      <th>Genres_Casual</th>\n      <th>Genres_News &amp; Magazines</th>\n      <th>Genres_Sports</th>\n      <th>Genres_Action</th>\n      <th>Genres_Simulation</th>\n      <th>Genres_Food &amp; Drink</th>\n    </tr>\n  </thead>\n  <tbody>\n    <tr>\n      <th>0</th>\n      <td>4.4</td>\n      <td>17915</td>\n      <td>0.0</td>\n      <td>44</td>\n      <td>1</td>\n      <td>0</td>\n      <td>0</td>\n      <td>0</td>\n      <td>0</td>\n      <td>0</td>\n      <td>...</td>\n      <td>0</td>\n      <td>0</td>\n      <td>0</td>\n      <td>0</td>\n      <td>0</td>\n      <td>0</td>\n      <td>0</td>\n      <td>0</td>\n      <td>0</td>\n      <td>0</td>\n    </tr>\n    <tr>\n      <th>1</th>\n      <td>3.7</td>\n      <td>321</td>\n      <td>0.0</td>\n      <td>535</td>\n      <td>0</td>\n      <td>1</td>\n      <td>0</td>\n      <td>0</td>\n      <td>0</td>\n      <td>0</td>\n      <td>...</td>\n      <td>0</td>\n      <td>0</td>\n      <td>0</td>\n      <td>0</td>\n      <td>0</td>\n      <td>0</td>\n      <td>0</td>\n      <td>0</td>\n      <td>0</td>\n      <td>0</td>\n    </tr>\n    <tr>\n      <th>2</th>\n      <td>5.0</td>\n      <td>12</td>\n      <td>0.0</td>\n      <td>1821</td>\n      <td>0</td>\n      <td>0</td>\n      <td>1</td>\n      <td>0</td>\n      <td>0</td>\n      <td>0</td>\n      <td>...</td>\n      <td>0</td>\n      <td>0</td>\n      <td>0</td>\n      <td>0</td>\n      <td>0</td>\n      <td>0</td>\n      <td>0</td>\n      <td>0</td>\n      <td>0</td>\n      <td>0</td>\n    </tr>\n    <tr>\n      <th>3</th>\n      <td>4.7</td>\n      <td>303</td>\n      <td>0.0</td>\n      <td>40</td>\n      <td>0</td>\n      <td>0</td>\n      <td>0</td>\n      <td>1</td>\n      <td>0</td>\n      <td>0</td>\n      <td>...</td>\n      <td>0</td>\n      <td>0</td>\n      <td>0</td>\n      <td>0</td>\n      <td>0</td>\n      <td>0</td>\n      <td>0</td>\n      <td>0</td>\n      <td>0</td>\n      <td>0</td>\n    </tr>\n    <tr>\n      <th>4</th>\n      <td>4.5</td>\n      <td>80904</td>\n      <td>0.0</td>\n      <td>57</td>\n      <td>0</td>\n      <td>0</td>\n      <td>1</td>\n      <td>0</td>\n      <td>0</td>\n      <td>0</td>\n      <td>...</td>\n      <td>0</td>\n      <td>0</td>\n      <td>0</td>\n      <td>0</td>\n      <td>0</td>\n      <td>0</td>\n      <td>0</td>\n      <td>0</td>\n      <td>0</td>\n      <td>0</td>\n    </tr>\n  </tbody>\n</table>\n<p>5 rows × 76 columns</p>\n</div>"
     },
     "execution_count": 128,
     "metadata": {},
     "output_type": "execute_result"
    }
   ],
   "source": [
    " # transform the data sets\n",
    "\n",
    "X_train_enc = encoder.transform(X_train_t)\n",
    "X_test_enc = encoder.transform(X_test_t)\n",
    "\n",
    "X_train_enc.head()"
   ]
  },
  {
   "attachments": {},
   "cell_type": "markdown",
   "metadata": {},
   "source": [
    "Schauen wir nun wie gross der Datensatz geworden ist"
   ]
  },
  {
   "cell_type": "code",
   "execution_count": 129,
   "metadata": {},
   "outputs": [
    {
     "name": "stdout",
     "output_type": "stream",
     "text": [
      "Die Dimensionen des Urpsrungsdatensatzes : (8672, 9)\n",
      "Die Dimensionen des umgeformten Datensatzes : (8672, 76)\n"
     ]
    }
   ],
   "source": [
    "print(\"Die Dimensionen des Urpsrungsdatensatzes : {}\".format(X_train_t.shape))\n",
    "print(\"Die Dimensionen des umgeformten Datensatzes : {}\".format(X_train_enc.shape))"
   ]
  },
  {
   "attachments": {},
   "cell_type": "markdown",
   "metadata": {},
   "source": [
    "Speichern wir die Umformung"
   ]
  },
  {
   "cell_type": "code",
   "execution_count": 130,
   "metadata": {},
   "outputs": [],
   "source": [
    "X_train_enc.to_csv(\"Xtrain_k_one_hot.csv\",index=False)\n",
    "X_test_enc.to_csv(\"Xtest_k_one_hot.csv\",index=False)"
   ]
  },
  {
   "attachments": {},
   "cell_type": "markdown",
   "metadata": {},
   "source": [
    "### k-1 One-hot Encoding"
   ]
  },
  {
   "cell_type": "code",
   "execution_count": 131,
   "metadata": {},
   "outputs": [
    {
     "data": {
      "text/plain": "OneHotEncoder(drop_last=True)",
      "text/html": "<style>#sk-container-id-19 {color: black;background-color: white;}#sk-container-id-19 pre{padding: 0;}#sk-container-id-19 div.sk-toggleable {background-color: white;}#sk-container-id-19 label.sk-toggleable__label {cursor: pointer;display: block;width: 100%;margin-bottom: 0;padding: 0.3em;box-sizing: border-box;text-align: center;}#sk-container-id-19 label.sk-toggleable__label-arrow:before {content: \"▸\";float: left;margin-right: 0.25em;color: #696969;}#sk-container-id-19 label.sk-toggleable__label-arrow:hover:before {color: black;}#sk-container-id-19 div.sk-estimator:hover label.sk-toggleable__label-arrow:before {color: black;}#sk-container-id-19 div.sk-toggleable__content {max-height: 0;max-width: 0;overflow: hidden;text-align: left;background-color: #f0f8ff;}#sk-container-id-19 div.sk-toggleable__content pre {margin: 0.2em;color: black;border-radius: 0.25em;background-color: #f0f8ff;}#sk-container-id-19 input.sk-toggleable__control:checked~div.sk-toggleable__content {max-height: 200px;max-width: 100%;overflow: auto;}#sk-container-id-19 input.sk-toggleable__control:checked~label.sk-toggleable__label-arrow:before {content: \"▾\";}#sk-container-id-19 div.sk-estimator input.sk-toggleable__control:checked~label.sk-toggleable__label {background-color: #d4ebff;}#sk-container-id-19 div.sk-label input.sk-toggleable__control:checked~label.sk-toggleable__label {background-color: #d4ebff;}#sk-container-id-19 input.sk-hidden--visually {border: 0;clip: rect(1px 1px 1px 1px);clip: rect(1px, 1px, 1px, 1px);height: 1px;margin: -1px;overflow: hidden;padding: 0;position: absolute;width: 1px;}#sk-container-id-19 div.sk-estimator {font-family: monospace;background-color: #f0f8ff;border: 1px dotted black;border-radius: 0.25em;box-sizing: border-box;margin-bottom: 0.5em;}#sk-container-id-19 div.sk-estimator:hover {background-color: #d4ebff;}#sk-container-id-19 div.sk-parallel-item::after {content: \"\";width: 100%;border-bottom: 1px solid gray;flex-grow: 1;}#sk-container-id-19 div.sk-label:hover label.sk-toggleable__label {background-color: #d4ebff;}#sk-container-id-19 div.sk-serial::before {content: \"\";position: absolute;border-left: 1px solid gray;box-sizing: border-box;top: 0;bottom: 0;left: 50%;z-index: 0;}#sk-container-id-19 div.sk-serial {display: flex;flex-direction: column;align-items: center;background-color: white;padding-right: 0.2em;padding-left: 0.2em;position: relative;}#sk-container-id-19 div.sk-item {position: relative;z-index: 1;}#sk-container-id-19 div.sk-parallel {display: flex;align-items: stretch;justify-content: center;background-color: white;position: relative;}#sk-container-id-19 div.sk-item::before, #sk-container-id-19 div.sk-parallel-item::before {content: \"\";position: absolute;border-left: 1px solid gray;box-sizing: border-box;top: 0;bottom: 0;left: 50%;z-index: -1;}#sk-container-id-19 div.sk-parallel-item {display: flex;flex-direction: column;z-index: 1;position: relative;background-color: white;}#sk-container-id-19 div.sk-parallel-item:first-child::after {align-self: flex-end;width: 50%;}#sk-container-id-19 div.sk-parallel-item:last-child::after {align-self: flex-start;width: 50%;}#sk-container-id-19 div.sk-parallel-item:only-child::after {width: 0;}#sk-container-id-19 div.sk-dashed-wrapped {border: 1px dashed gray;margin: 0 0.4em 0.5em 0.4em;box-sizing: border-box;padding-bottom: 0.4em;background-color: white;}#sk-container-id-19 div.sk-label label {font-family: monospace;font-weight: bold;display: inline-block;line-height: 1.2em;}#sk-container-id-19 div.sk-label-container {text-align: center;}#sk-container-id-19 div.sk-container {/* jupyter's `normalize.less` sets `[hidden] { display: none; }` but bootstrap.min.css set `[hidden] { display: none !important; }` so we also need the `!important` here to be able to override the default hidden behavior on the sphinx rendered scikit-learn.org. See: https://github.com/scikit-learn/scikit-learn/issues/21755 */display: inline-block !important;position: relative;}#sk-container-id-19 div.sk-text-repr-fallback {display: none;}</style><div id=\"sk-container-id-19\" class=\"sk-top-container\"><div class=\"sk-text-repr-fallback\"><pre>OneHotEncoder(drop_last=True)</pre><b>In a Jupyter environment, please rerun this cell to show the HTML representation or trust the notebook. <br />On GitHub, the HTML representation is unable to render, please try loading this page with nbviewer.org.</b></div><div class=\"sk-container\" hidden><div class=\"sk-item\"><div class=\"sk-estimator sk-toggleable\"><input class=\"sk-toggleable__control sk-hidden--visually\" id=\"sk-estimator-id-19\" type=\"checkbox\" checked><label for=\"sk-estimator-id-19\" class=\"sk-toggleable__label sk-toggleable__label-arrow\">OneHotEncoder</label><div class=\"sk-toggleable__content\"><pre>OneHotEncoder(drop_last=True)</pre></div></div></div></div></div>"
     },
     "execution_count": 131,
     "metadata": {},
     "output_type": "execute_result"
    }
   ],
   "source": [
    "# set up encoder\n",
    "\n",
    "encoder = OneHotEncoder(\n",
    "    variables=None,  # alternatively pass a list of variables\n",
    "    top_categories=None,\n",
    "    drop_last=True,  # to return k-1, use drop=false to return k dummies\n",
    ")\n",
    "# fit the encoder (finds categories)\n",
    "\n",
    "encoder.fit(X_train_t)\n"
   ]
  },
  {
   "cell_type": "code",
   "execution_count": 132,
   "metadata": {},
   "outputs": [
    {
     "data": {
      "text/plain": "['Category', 'Size', 'Type', 'Content Rating', 'Genres']"
     },
     "execution_count": 132,
     "metadata": {},
     "output_type": "execute_result"
    }
   ],
   "source": [
    "# automatically found numerical variables\n",
    "\n",
    "encoder.variables_"
   ]
  },
  {
   "cell_type": "code",
   "execution_count": 133,
   "metadata": {},
   "outputs": [
    {
     "data": {
      "text/plain": "{'Category': ['TRAVEL_AND_LOCAL',\n  'VIDEO_PLAYERS',\n  'FINANCE',\n  'FAMILY',\n  'MEDICAL',\n  'GAME',\n  'SOCIAL',\n  'PERSONALIZATION',\n  'PHOTOGRAPHY',\n  'MAPS_AND_NAVIGATION',\n  'HEALTH_AND_FITNESS',\n  'COMMUNICATION',\n  'Rare',\n  'DATING',\n  'TOOLS',\n  'LIFESTYLE',\n  'BUSINESS',\n  'PRODUCTIVITY',\n  'BOOKS_AND_REFERENCE',\n  'SHOPPING',\n  'EDUCATION',\n  'NEWS_AND_MAGAZINES',\n  'SPORTS',\n  'FOOD_AND_DRINK'],\n 'Size': ['Varies with device',\n  '0.1-10MB',\n  '40.1-50MB',\n  '10.1-20MB',\n  '90.1-100MB',\n  '50.1-60MB',\n  '80.1-90MB',\n  '30.1-40MB',\n  '60.1-70MB',\n  '20.1-30MB'],\n 'Type': ['Free'],\n 'Content Rating': ['Everyone', 'Teen', 'Everyone 10+', 'Mature 17+'],\n 'Genres': ['Travel & Local',\n  'Video Players & Editors',\n  'Finance',\n  'Entertainment',\n  'Role Playing',\n  'Rare',\n  'Medical',\n  'Arcade',\n  'Education',\n  'Social',\n  'Personalization',\n  'Photography',\n  'Maps & Navigation',\n  'Health & Fitness',\n  'Communication',\n  'Dating',\n  'Tools',\n  'Lifestyle',\n  'Business',\n  'Productivity',\n  'Books & Reference',\n  'Shopping',\n  'Puzzle',\n  'Casual',\n  'News & Magazines',\n  'Sports',\n  'Action',\n  'Simulation']}"
     },
     "execution_count": 133,
     "metadata": {},
     "output_type": "execute_result"
    }
   ],
   "source": [
    "# we observe the learned categories\n",
    "\n",
    "encoder.encoder_dict_"
   ]
  },
  {
   "cell_type": "code",
   "execution_count": 134,
   "metadata": {},
   "outputs": [
    {
     "data": {
      "text/plain": "   Rating  Reviews  Price  days_since_update  Category_TRAVEL_AND_LOCAL  \\\n0     4.4    17915    0.0                 44                          1   \n1     3.7      321    0.0                535                          0   \n2     5.0       12    0.0               1821                          0   \n3     4.7      303    0.0                 40                          0   \n4     4.5    80904    0.0                 57                          0   \n\n   Category_VIDEO_PLAYERS  Category_FINANCE  Category_FAMILY  \\\n0                       0                 0                0   \n1                       1                 0                0   \n2                       0                 1                0   \n3                       0                 0                1   \n4                       0                 1                0   \n\n   Category_MEDICAL  Category_GAME  ...  Genres_Business  Genres_Productivity  \\\n0                 0              0  ...                0                    0   \n1                 0              0  ...                0                    0   \n2                 0              0  ...                0                    0   \n3                 0              0  ...                0                    0   \n4                 0              0  ...                0                    0   \n\n   Genres_Books & Reference  Genres_Shopping  Genres_Puzzle  Genres_Casual  \\\n0                         0                0              0              0   \n1                         0                0              0              0   \n2                         0                0              0              0   \n3                         0                0              0              0   \n4                         0                0              0              0   \n\n   Genres_News & Magazines  Genres_Sports  Genres_Action  Genres_Simulation  \n0                        0              0              0                  0  \n1                        0              0              0                  0  \n2                        0              0              0                  0  \n3                        0              0              0                  0  \n4                        0              0              0                  0  \n\n[5 rows x 71 columns]",
      "text/html": "<div>\n<style scoped>\n    .dataframe tbody tr th:only-of-type {\n        vertical-align: middle;\n    }\n\n    .dataframe tbody tr th {\n        vertical-align: top;\n    }\n\n    .dataframe thead th {\n        text-align: right;\n    }\n</style>\n<table border=\"1\" class=\"dataframe\">\n  <thead>\n    <tr style=\"text-align: right;\">\n      <th></th>\n      <th>Rating</th>\n      <th>Reviews</th>\n      <th>Price</th>\n      <th>days_since_update</th>\n      <th>Category_TRAVEL_AND_LOCAL</th>\n      <th>Category_VIDEO_PLAYERS</th>\n      <th>Category_FINANCE</th>\n      <th>Category_FAMILY</th>\n      <th>Category_MEDICAL</th>\n      <th>Category_GAME</th>\n      <th>...</th>\n      <th>Genres_Business</th>\n      <th>Genres_Productivity</th>\n      <th>Genres_Books &amp; Reference</th>\n      <th>Genres_Shopping</th>\n      <th>Genres_Puzzle</th>\n      <th>Genres_Casual</th>\n      <th>Genres_News &amp; Magazines</th>\n      <th>Genres_Sports</th>\n      <th>Genres_Action</th>\n      <th>Genres_Simulation</th>\n    </tr>\n  </thead>\n  <tbody>\n    <tr>\n      <th>0</th>\n      <td>4.4</td>\n      <td>17915</td>\n      <td>0.0</td>\n      <td>44</td>\n      <td>1</td>\n      <td>0</td>\n      <td>0</td>\n      <td>0</td>\n      <td>0</td>\n      <td>0</td>\n      <td>...</td>\n      <td>0</td>\n      <td>0</td>\n      <td>0</td>\n      <td>0</td>\n      <td>0</td>\n      <td>0</td>\n      <td>0</td>\n      <td>0</td>\n      <td>0</td>\n      <td>0</td>\n    </tr>\n    <tr>\n      <th>1</th>\n      <td>3.7</td>\n      <td>321</td>\n      <td>0.0</td>\n      <td>535</td>\n      <td>0</td>\n      <td>1</td>\n      <td>0</td>\n      <td>0</td>\n      <td>0</td>\n      <td>0</td>\n      <td>...</td>\n      <td>0</td>\n      <td>0</td>\n      <td>0</td>\n      <td>0</td>\n      <td>0</td>\n      <td>0</td>\n      <td>0</td>\n      <td>0</td>\n      <td>0</td>\n      <td>0</td>\n    </tr>\n    <tr>\n      <th>2</th>\n      <td>5.0</td>\n      <td>12</td>\n      <td>0.0</td>\n      <td>1821</td>\n      <td>0</td>\n      <td>0</td>\n      <td>1</td>\n      <td>0</td>\n      <td>0</td>\n      <td>0</td>\n      <td>...</td>\n      <td>0</td>\n      <td>0</td>\n      <td>0</td>\n      <td>0</td>\n      <td>0</td>\n      <td>0</td>\n      <td>0</td>\n      <td>0</td>\n      <td>0</td>\n      <td>0</td>\n    </tr>\n    <tr>\n      <th>3</th>\n      <td>4.7</td>\n      <td>303</td>\n      <td>0.0</td>\n      <td>40</td>\n      <td>0</td>\n      <td>0</td>\n      <td>0</td>\n      <td>1</td>\n      <td>0</td>\n      <td>0</td>\n      <td>...</td>\n      <td>0</td>\n      <td>0</td>\n      <td>0</td>\n      <td>0</td>\n      <td>0</td>\n      <td>0</td>\n      <td>0</td>\n      <td>0</td>\n      <td>0</td>\n      <td>0</td>\n    </tr>\n    <tr>\n      <th>4</th>\n      <td>4.5</td>\n      <td>80904</td>\n      <td>0.0</td>\n      <td>57</td>\n      <td>0</td>\n      <td>0</td>\n      <td>1</td>\n      <td>0</td>\n      <td>0</td>\n      <td>0</td>\n      <td>...</td>\n      <td>0</td>\n      <td>0</td>\n      <td>0</td>\n      <td>0</td>\n      <td>0</td>\n      <td>0</td>\n      <td>0</td>\n      <td>0</td>\n      <td>0</td>\n      <td>0</td>\n    </tr>\n  </tbody>\n</table>\n<p>5 rows × 71 columns</p>\n</div>"
     },
     "execution_count": 134,
     "metadata": {},
     "output_type": "execute_result"
    }
   ],
   "source": [
    " # transform the data sets\n",
    "\n",
    "X_train_enc = encoder.transform(X_train_t)\n",
    "X_test_enc = encoder.transform(X_test_t)\n",
    "\n",
    "X_train_enc.head()"
   ]
  },
  {
   "attachments": {},
   "cell_type": "markdown",
   "metadata": {},
   "source": [
    "Schauen wir uns nun die Dimension des Datensatzes an"
   ]
  },
  {
   "cell_type": "code",
   "execution_count": 135,
   "metadata": {},
   "outputs": [
    {
     "name": "stdout",
     "output_type": "stream",
     "text": [
      "Die Dimensionen des Urpsrungsdatensatzes : (8672, 9)\n",
      "Die Dimensionen des umgeformten Datensatzes : (8672, 71)\n"
     ]
    }
   ],
   "source": [
    "print(\"Die Dimensionen des Urpsrungsdatensatzes : {}\".format(X_train_t.shape))\n",
    "print(\"Die Dimensionen des umgeformten Datensatzes : {}\".format(X_train_enc.shape))"
   ]
  },
  {
   "attachments": {},
   "cell_type": "markdown",
   "metadata": {},
   "source": [
    "Speichern wir nun die Daten"
   ]
  },
  {
   "cell_type": "code",
   "execution_count": 136,
   "metadata": {},
   "outputs": [],
   "source": [
    "# X_train_enc.to_csv(\"Xtrain_booking_k_1_one_hot.csv\",index=False)\n",
    "# X_test_enc.to_csv(\"Xtest_booking_k_1_one_hot.csv\",index=False)"
   ]
  },
  {
   "attachments": {},
   "cell_type": "markdown",
   "metadata": {},
   "source": [
    "## Count-Frequency Encoding"
   ]
  },
  {
   "cell_type": "code",
   "execution_count": 137,
   "metadata": {},
   "outputs": [
    {
     "data": {
      "text/plain": "CountFrequencyEncoder()",
      "text/html": "<style>#sk-container-id-20 {color: black;background-color: white;}#sk-container-id-20 pre{padding: 0;}#sk-container-id-20 div.sk-toggleable {background-color: white;}#sk-container-id-20 label.sk-toggleable__label {cursor: pointer;display: block;width: 100%;margin-bottom: 0;padding: 0.3em;box-sizing: border-box;text-align: center;}#sk-container-id-20 label.sk-toggleable__label-arrow:before {content: \"▸\";float: left;margin-right: 0.25em;color: #696969;}#sk-container-id-20 label.sk-toggleable__label-arrow:hover:before {color: black;}#sk-container-id-20 div.sk-estimator:hover label.sk-toggleable__label-arrow:before {color: black;}#sk-container-id-20 div.sk-toggleable__content {max-height: 0;max-width: 0;overflow: hidden;text-align: left;background-color: #f0f8ff;}#sk-container-id-20 div.sk-toggleable__content pre {margin: 0.2em;color: black;border-radius: 0.25em;background-color: #f0f8ff;}#sk-container-id-20 input.sk-toggleable__control:checked~div.sk-toggleable__content {max-height: 200px;max-width: 100%;overflow: auto;}#sk-container-id-20 input.sk-toggleable__control:checked~label.sk-toggleable__label-arrow:before {content: \"▾\";}#sk-container-id-20 div.sk-estimator input.sk-toggleable__control:checked~label.sk-toggleable__label {background-color: #d4ebff;}#sk-container-id-20 div.sk-label input.sk-toggleable__control:checked~label.sk-toggleable__label {background-color: #d4ebff;}#sk-container-id-20 input.sk-hidden--visually {border: 0;clip: rect(1px 1px 1px 1px);clip: rect(1px, 1px, 1px, 1px);height: 1px;margin: -1px;overflow: hidden;padding: 0;position: absolute;width: 1px;}#sk-container-id-20 div.sk-estimator {font-family: monospace;background-color: #f0f8ff;border: 1px dotted black;border-radius: 0.25em;box-sizing: border-box;margin-bottom: 0.5em;}#sk-container-id-20 div.sk-estimator:hover {background-color: #d4ebff;}#sk-container-id-20 div.sk-parallel-item::after {content: \"\";width: 100%;border-bottom: 1px solid gray;flex-grow: 1;}#sk-container-id-20 div.sk-label:hover label.sk-toggleable__label {background-color: #d4ebff;}#sk-container-id-20 div.sk-serial::before {content: \"\";position: absolute;border-left: 1px solid gray;box-sizing: border-box;top: 0;bottom: 0;left: 50%;z-index: 0;}#sk-container-id-20 div.sk-serial {display: flex;flex-direction: column;align-items: center;background-color: white;padding-right: 0.2em;padding-left: 0.2em;position: relative;}#sk-container-id-20 div.sk-item {position: relative;z-index: 1;}#sk-container-id-20 div.sk-parallel {display: flex;align-items: stretch;justify-content: center;background-color: white;position: relative;}#sk-container-id-20 div.sk-item::before, #sk-container-id-20 div.sk-parallel-item::before {content: \"\";position: absolute;border-left: 1px solid gray;box-sizing: border-box;top: 0;bottom: 0;left: 50%;z-index: -1;}#sk-container-id-20 div.sk-parallel-item {display: flex;flex-direction: column;z-index: 1;position: relative;background-color: white;}#sk-container-id-20 div.sk-parallel-item:first-child::after {align-self: flex-end;width: 50%;}#sk-container-id-20 div.sk-parallel-item:last-child::after {align-self: flex-start;width: 50%;}#sk-container-id-20 div.sk-parallel-item:only-child::after {width: 0;}#sk-container-id-20 div.sk-dashed-wrapped {border: 1px dashed gray;margin: 0 0.4em 0.5em 0.4em;box-sizing: border-box;padding-bottom: 0.4em;background-color: white;}#sk-container-id-20 div.sk-label label {font-family: monospace;font-weight: bold;display: inline-block;line-height: 1.2em;}#sk-container-id-20 div.sk-label-container {text-align: center;}#sk-container-id-20 div.sk-container {/* jupyter's `normalize.less` sets `[hidden] { display: none; }` but bootstrap.min.css set `[hidden] { display: none !important; }` so we also need the `!important` here to be able to override the default hidden behavior on the sphinx rendered scikit-learn.org. See: https://github.com/scikit-learn/scikit-learn/issues/21755 */display: inline-block !important;position: relative;}#sk-container-id-20 div.sk-text-repr-fallback {display: none;}</style><div id=\"sk-container-id-20\" class=\"sk-top-container\"><div class=\"sk-text-repr-fallback\"><pre>CountFrequencyEncoder()</pre><b>In a Jupyter environment, please rerun this cell to show the HTML representation or trust the notebook. <br />On GitHub, the HTML representation is unable to render, please try loading this page with nbviewer.org.</b></div><div class=\"sk-container\" hidden><div class=\"sk-item\"><div class=\"sk-estimator sk-toggleable\"><input class=\"sk-toggleable__control sk-hidden--visually\" id=\"sk-estimator-id-20\" type=\"checkbox\" checked><label for=\"sk-estimator-id-20\" class=\"sk-toggleable__label sk-toggleable__label-arrow\">CountFrequencyEncoder</label><div class=\"sk-toggleable__content\"><pre>CountFrequencyEncoder()</pre></div></div></div></div></div>"
     },
     "execution_count": 137,
     "metadata": {},
     "output_type": "execute_result"
    }
   ],
   "source": [
    "count_enc = CountFrequencyEncoder(\n",
    "    encoding_method=\"count\",  # to do frequency ==> encoding_method='frequency'\n",
    "    variables=None\n",
    ")\n",
    "\n",
    "count_enc.fit(X_train_t)"
   ]
  },
  {
   "cell_type": "code",
   "execution_count": 138,
   "metadata": {},
   "outputs": [
    {
     "data": {
      "text/plain": "{'Category': {'FAMILY': 1583,\n  'GAME': 911,\n  'TOOLS': 692,\n  'Rare': 531,\n  'MEDICAL': 367,\n  'BUSINESS': 364,\n  'PRODUCTIVITY': 333,\n  'PERSONALIZATION': 321,\n  'COMMUNICATION': 317,\n  'LIFESTYLE': 299,\n  'SPORTS': 289,\n  'HEALTH_AND_FITNESS': 278,\n  'FINANCE': 274,\n  'PHOTOGRAPHY': 266,\n  'SOCIAL': 231,\n  'NEWS_AND_MAGAZINES': 227,\n  'SHOPPING': 211,\n  'TRAVEL_AND_LOCAL': 209,\n  'DATING': 188,\n  'BOOKS_AND_REFERENCE': 177,\n  'EDUCATION': 135,\n  'ENTERTAINMENT': 134,\n  'VIDEO_PLAYERS': 129,\n  'MAPS_AND_NAVIGATION': 109,\n  'FOOD_AND_DRINK': 97},\n 'Size': {'0.1-10MB': 3253,\n  'Varies with device': 1368,\n  '10.1-20MB': 1359,\n  '20.1-30MB': 949,\n  '30.1-40MB': 513,\n  '40.1-50MB': 394,\n  '50.1-60MB': 263,\n  '60.1-70MB': 185,\n  '90.1-100MB': 163,\n  '70.1-80MB': 130,\n  '80.1-90MB': 95},\n 'Type': {'Free': 8020, 'Paid': 652},\n 'Content Rating': {'Everyone': 6954,\n  'Teen': 977,\n  'Mature 17+': 398,\n  'Everyone 10+': 339,\n  'Rare': 4},\n 'Genres': {'Rare': 1340,\n  'Tools': 691,\n  'Entertainment': 517,\n  'Education': 454,\n  'Medical': 367,\n  'Business': 364,\n  'Productivity': 333,\n  'Personalization': 321,\n  'Communication': 317,\n  'Sports': 301,\n  'Lifestyle': 298,\n  'Action': 288,\n  'Health & Fitness': 278,\n  'Finance': 274,\n  'Photography': 266,\n  'Social': 231,\n  'News & Magazines': 227,\n  'Shopping': 211,\n  'Travel & Local': 208,\n  'Dating': 188,\n  'Books & Reference': 177,\n  'Arcade': 170,\n  'Simulation': 165,\n  'Casual': 149,\n  'Video Players & Editors': 127,\n  'Puzzle': 109,\n  'Maps & Navigation': 109,\n  'Food & Drink': 97,\n  'Role Playing': 95}}"
     },
     "execution_count": 138,
     "metadata": {},
     "output_type": "execute_result"
    }
   ],
   "source": [
    "# in the encoder dict we can observe the number of\n",
    "# observations per category for each variable\n",
    "\n",
    "count_enc.encoder_dict_"
   ]
  },
  {
   "cell_type": "code",
   "execution_count": 139,
   "metadata": {},
   "outputs": [
    {
     "name": "stderr",
     "output_type": "stream",
     "text": [
      "C:\\Users\\buech\\AppData\\Local\\Programs\\Python\\Python311\\Lib\\site-packages\\feature_engine\\encoding\\base_encoder.py:210: UserWarning: During the encoding, NaN values were introduced in the feature(s) Category, Content Rating, Genres.\n",
      "  warnings.warn(\n",
      "C:\\Users\\buech\\AppData\\Local\\Programs\\Python\\Python311\\Lib\\site-packages\\feature_engine\\encoding\\base_encoder.py:210: UserWarning: During the encoding, NaN values were introduced in the feature(s) Category, Content Rating, Genres.\n",
      "  warnings.warn(\n"
     ]
    },
    {
     "data": {
      "text/plain": "   Category  Rating  Reviews  Size  Type  Price  Content Rating  Genres  \\\n0     209.0     4.4    17915  1368  8020    0.0          6954.0   208.0   \n1     129.0     3.7      321  3253  8020    0.0          6954.0   127.0   \n2     274.0     5.0       12  3253  8020    0.0          6954.0   274.0   \n3    1583.0     4.7      303   394  8020    0.0          6954.0   517.0   \n4     274.0     4.5    80904  1359  8020    0.0          6954.0   274.0   \n\n   days_since_update  \n0                 44  \n1                535  \n2               1821  \n3                 40  \n4                 57  ",
      "text/html": "<div>\n<style scoped>\n    .dataframe tbody tr th:only-of-type {\n        vertical-align: middle;\n    }\n\n    .dataframe tbody tr th {\n        vertical-align: top;\n    }\n\n    .dataframe thead th {\n        text-align: right;\n    }\n</style>\n<table border=\"1\" class=\"dataframe\">\n  <thead>\n    <tr style=\"text-align: right;\">\n      <th></th>\n      <th>Category</th>\n      <th>Rating</th>\n      <th>Reviews</th>\n      <th>Size</th>\n      <th>Type</th>\n      <th>Price</th>\n      <th>Content Rating</th>\n      <th>Genres</th>\n      <th>days_since_update</th>\n    </tr>\n  </thead>\n  <tbody>\n    <tr>\n      <th>0</th>\n      <td>209.0</td>\n      <td>4.4</td>\n      <td>17915</td>\n      <td>1368</td>\n      <td>8020</td>\n      <td>0.0</td>\n      <td>6954.0</td>\n      <td>208.0</td>\n      <td>44</td>\n    </tr>\n    <tr>\n      <th>1</th>\n      <td>129.0</td>\n      <td>3.7</td>\n      <td>321</td>\n      <td>3253</td>\n      <td>8020</td>\n      <td>0.0</td>\n      <td>6954.0</td>\n      <td>127.0</td>\n      <td>535</td>\n    </tr>\n    <tr>\n      <th>2</th>\n      <td>274.0</td>\n      <td>5.0</td>\n      <td>12</td>\n      <td>3253</td>\n      <td>8020</td>\n      <td>0.0</td>\n      <td>6954.0</td>\n      <td>274.0</td>\n      <td>1821</td>\n    </tr>\n    <tr>\n      <th>3</th>\n      <td>1583.0</td>\n      <td>4.7</td>\n      <td>303</td>\n      <td>394</td>\n      <td>8020</td>\n      <td>0.0</td>\n      <td>6954.0</td>\n      <td>517.0</td>\n      <td>40</td>\n    </tr>\n    <tr>\n      <th>4</th>\n      <td>274.0</td>\n      <td>4.5</td>\n      <td>80904</td>\n      <td>1359</td>\n      <td>8020</td>\n      <td>0.0</td>\n      <td>6954.0</td>\n      <td>274.0</td>\n      <td>57</td>\n    </tr>\n  </tbody>\n</table>\n</div>"
     },
     "execution_count": 139,
     "metadata": {},
     "output_type": "execute_result"
    }
   ],
   "source": [
    "X_train_enc = count_enc.transform(X_train)\n",
    "X_test_enc = count_enc.transform(X_test)\n",
    "\n",
    "# let's explore the result\n",
    "X_train_enc.head()"
   ]
  },
  {
   "attachments": {},
   "cell_type": "markdown",
   "metadata": {},
   "source": [
    "Schauen wir nun uns die Dimensionen des Datensatzes an"
   ]
  },
  {
   "cell_type": "code",
   "execution_count": 140,
   "metadata": {},
   "outputs": [
    {
     "name": "stdout",
     "output_type": "stream",
     "text": [
      "Die Dimensionen des Urpsrungsdatensatzes : (8672, 9)\n",
      "Die Dimensionen des umgeformten Datensatzes : (8672, 9)\n"
     ]
    }
   ],
   "source": [
    "print(\"Die Dimensionen des Urpsrungsdatensatzes : {}\".format(X_train_t.shape))\n",
    "print(\"Die Dimensionen des umgeformten Datensatzes : {}\".format(X_train_enc.shape))"
   ]
  },
  {
   "attachments": {},
   "cell_type": "markdown",
   "metadata": {},
   "source": [
    "Speichern wir nun die Daten"
   ]
  },
  {
   "cell_type": "code",
   "execution_count": 141,
   "metadata": {},
   "outputs": [],
   "source": [
    "# X_train_enc.to_csv(\"Xtrain_booking_count_cat_hot.csv\",index=False)\n",
    "# X_test_enc.to_csv(\"Xtest_booking_count_cat_hot.csv\",index=False)"
   ]
  }
 ],
 "metadata": {
  "kernelspec": {
   "display_name": "Python 3 (ipykernel)",
   "language": "python",
   "name": "python3"
  },
  "language_info": {
   "codemirror_mode": {
    "name": "ipython",
    "version": 3
   },
   "file_extension": ".py",
   "mimetype": "text/x-python",
   "name": "python",
   "nbconvert_exporter": "python",
   "pygments_lexer": "ipython3",
   "version": "3.10.8"
  }
 },
 "nbformat": 4,
 "nbformat_minor": 1
}
