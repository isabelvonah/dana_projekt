{
 "cells": [
  {
   "cell_type": "code",
   "execution_count": 1,
   "id": "b3423e5d",
   "metadata": {},
   "outputs": [],
   "source": [
    "import pandas as pd\n",
    "import numpy as np\n",
    "from sklearn import linear_model\n",
    "from sklearn.model_selection import cross_val_score\n",
    "from sklearn.model_selection import RepeatedKFold\n",
    "from pygam import LinearGAM, s, f\n",
    "from sklearn.model_selection import train_test_split\n",
    "from sklearn.model_selection import GridSearchCV\n",
    "\n",
    "from sklearn.pipeline import Pipeline\n",
    "import feature_engine.imputation as imp\n",
    "from feature_engine.encoding import OneHotEncoder\n",
    "\n",
    "import matplotlib.pyplot as plt"
   ]
  },
  {
   "cell_type": "code",
   "execution_count": 2,
   "id": "742c3319",
   "metadata": {},
   "outputs": [
    {
     "name": "stdout",
     "output_type": "stream",
     "text": [
      "Shape of X Train: (8672, 19)\n",
      "Shape of X Test: (2168, 19)\n",
      "Shape of y Train: (8672, 1)\n",
      "Shape of y Test: (2168, 1)\n"
     ]
    }
   ],
   "source": [
    "X_train = pd.read_csv(\"Xtrain_feature_sel_low_tol.csv\")\n",
    "X_test = pd.read_csv(\"Xtest_feature_sel_low_tol.csv\")\n",
    "ytrain = pd.read_csv(\"ytrain_mod.csv\")\n",
    "ytest = pd.read_csv(\"ytest_mod.csv\")\n",
    "print(\"Shape of X Train: {}\".format(X_train.shape))\n",
    "print(\"Shape of X Test: {}\".format(X_test.shape))\n",
    "print(\"Shape of y Train: {}\".format(ytrain.shape))\n",
    "print(\"Shape of y Test: {}\".format(ytest.shape))"
   ]
  },
  {
   "cell_type": "code",
   "execution_count": 3,
   "id": "9f092748",
   "metadata": {},
   "outputs": [
    {
     "data": {
      "text/plain": [
       "Reviews                    float64\n",
       "Rating                     float64\n",
       "days_since_update          float64\n",
       "Price                      float64\n",
       "Category_FAMILY              int64\n",
       "Category_GAME                int64\n",
       "Category_Rare                int64\n",
       "Category_TOOLS               int64\n",
       "Size_Varies with device      int64\n",
       "Size_0.1-10MB                int64\n",
       "Size_10.1-20MB               int64\n",
       "Size_30.1-40MB               int64\n",
       "Size_20.1-30MB               int64\n",
       "Type_Free                    int64\n",
       "Content Rating_Everyone      int64\n",
       "Content Rating_Teen          int64\n",
       "Genres_Entertainment         int64\n",
       "Genres_Rare                  int64\n",
       "Genres_Education             int64\n",
       "dtype: object"
      ]
     },
     "execution_count": 3,
     "metadata": {},
     "output_type": "execute_result"
    }
   ],
   "source": [
    "# types of the variables\n",
    "X_train.dtypes"
   ]
  },
  {
   "cell_type": "code",
   "execution_count": 4,
   "id": "8d99a648",
   "metadata": {},
   "outputs": [],
   "source": [
    "variable = \"Size_Varies with device\"\n",
    "\n",
    "# create linear regression\n",
    "regr = linear_model.LinearRegression()\n",
    "# train model using training set\n",
    "reg = regr.fit(X_train[[variable]],ytrain)"
   ]
  },
  {
   "cell_type": "code",
   "execution_count": 5,
   "id": "5fbdca91",
   "metadata": {},
   "outputs": [
    {
     "name": "stdout",
     "output_type": "stream",
     "text": [
      "Coefficients:  [[55273727.54366109]]\n",
      "intercept:  [7093261.27724535]\n"
     ]
    }
   ],
   "source": [
    "# regression coefficients\n",
    "print('Coefficients: ', reg.coef_)\n",
    "# intercept\n",
    "print('intercept: ', reg.intercept_)"
   ]
  },
  {
   "cell_type": "code",
   "execution_count": 6,
   "id": "208e6e4e",
   "metadata": {},
   "outputs": [
    {
     "data": {
      "text/plain": [
       "Text(0, 0.5, 'Installs')"
      ]
     },
     "execution_count": 6,
     "metadata": {},
     "output_type": "execute_result"
    },
    {
     "data": {
      "image/png": "[encoded data removed]",
      "text/plain": [
       "<Figure size 432x288 with 1 Axes>"
      ]
     },
     "metadata": {
      "needs_background": "light"
     },
     "output_type": "display_data"
    }
   ],
   "source": [
    "plt.plot(X_train[[variable]],ytrain,'o')\n",
    "plt.plot(X_train[[variable]],reg.coef_*X_train[[variable]]+reg.intercept_)\n",
    "\n",
    "plt.xlabel(X_train[[variable]].columns[0])\n",
    "plt.ylabel(\"Installs\")"
   ]
  },
  {
   "cell_type": "markdown",
   "id": "b9b2413e",
   "metadata": {},
   "source": [
    "# go through all variables"
   ]
  },
  {
   "cell_type": "code",
   "execution_count": 14,
   "id": "2db588bf",
   "metadata": {},
   "outputs": [],
   "source": [
    "def lin_reg(variable):\n",
    "    \n",
    "    # create linear regression\n",
    "    regr = linear_model.LinearRegression()\n",
    "    # train model using training set\n",
    "    reg = regr.fit(X_train[[variable]],ytrain)\n",
    "\n",
    "    plt.plot(X_train[[variable]],ytrain,'o')\n",
    "    plt.plot(X_train[[variable]],reg.coef_*X_train[[variable]]+reg.intercept_)\n",
    "\n",
    "    plt.xlabel(X_train[[variable]].columns[0])\n",
    "    plt.ylabel(\"Installs\")\n",
    "    \n",
    "    #plt.savefig('plot.jpg' + variable, format='jpg')\n",
    "    \n",
    "    return [reg.coef_, reg.intercept_]"
   ]
  },
  {
   "cell_type": "code",
   "execution_count": 10,
   "id": "6d6760de",
   "metadata": {},
   "outputs": [
    {
     "data": {
      "text/plain": [
       "['Reviews',\n",
       " 'Rating',\n",
       " 'days_since_update',\n",
       " 'Price',\n",
       " 'Category_FAMILY',\n",
       " 'Category_GAME',\n",
       " 'Category_Rare',\n",
       " 'Category_TOOLS',\n",
       " 'Size_Varies with device',\n",
       " 'Size_0.1-10MB',\n",
       " 'Size_10.1-20MB',\n",
       " 'Size_30.1-40MB',\n",
       " 'Size_20.1-30MB',\n",
       " 'Type_Free',\n",
       " 'Content Rating_Everyone',\n",
       " 'Content Rating_Teen',\n",
       " 'Genres_Entertainment',\n",
       " 'Genres_Rare',\n",
       " 'Genres_Education']"
      ]
     },
     "execution_count": 10,
     "metadata": {},
     "output_type": "execute_result"
    }
   ],
   "source": [
    "column_names = X_train.columns.tolist()\n",
    "column_names"
   ]
  },
  {
   "cell_type": "code",
   "execution_count": 20,
   "id": "fd393a7f",
   "metadata": {},
   "outputs": [
    {
     "data": {
      "image/png": "[encoded data removed]",
      "text/plain": [
       "<Figure size 432x288 with 1 Axes>"
      ]
     },
     "metadata": {
      "needs_background": "light"
     },
     "output_type": "display_data"
    }
   ],
   "source": [
    "lin_reg_analysis = pd.DataFrame(columns=['variable', 'coefficients', 'intercept'])\n",
    "\n",
    "for column_name in column_names:\n",
    "    lin_reg_list = lin_reg(column_name)\n",
    "    lin_reg_analysis.loc[len(lin_reg_analysis)] = [column_name, lin_reg_list[0][0][0], lin_reg_list[1][0]]\n"
   ]
  },
  {
   "cell_type": "code",
   "execution_count": 22,
   "id": "c4359450",
   "metadata": {},
   "outputs": [
    {
     "data": {
      "text/html": [
       "<div>\n",
       "<style scoped>\n",
       "    .dataframe tbody tr th:only-of-type {\n",
       "        vertical-align: middle;\n",
       "    }\n",
       "\n",
       "    .dataframe tbody tr th {\n",
       "        vertical-align: top;\n",
       "    }\n",
       "\n",
       "    .dataframe thead th {\n",
       "        text-align: right;\n",
       "    }\n",
       "</style>\n",
       "<table border=\"1\" class=\"dataframe\">\n",
       "  <thead>\n",
       "    <tr style=\"text-align: right;\">\n",
       "      <th></th>\n",
       "      <th>variable</th>\n",
       "      <th>coefficients</th>\n",
       "      <th>intercept</th>\n",
       "    </tr>\n",
       "  </thead>\n",
       "  <tbody>\n",
       "    <tr>\n",
       "      <th>9</th>\n",
       "      <td>Size_0.1-10MB</td>\n",
       "      <td>-2.320462e+07</td>\n",
       "      <td>2.451705e+07</td>\n",
       "    </tr>\n",
       "    <tr>\n",
       "      <th>18</th>\n",
       "      <td>Genres_Education</td>\n",
       "      <td>-1.561648e+07</td>\n",
       "      <td>1.663020e+07</td>\n",
       "    </tr>\n",
       "    <tr>\n",
       "      <th>6</th>\n",
       "      <td>Category_Rare</td>\n",
       "      <td>-1.524437e+07</td>\n",
       "      <td>1.674608e+07</td>\n",
       "    </tr>\n",
       "    <tr>\n",
       "      <th>4</th>\n",
       "      <td>Category_FAMILY</td>\n",
       "      <td>-1.279169e+07</td>\n",
       "      <td>1.814766e+07</td>\n",
       "    </tr>\n",
       "    <tr>\n",
       "      <th>12</th>\n",
       "      <td>Size_20.1-30MB</td>\n",
       "      <td>-1.214223e+07</td>\n",
       "      <td>1.714140e+07</td>\n",
       "    </tr>\n",
       "    <tr>\n",
       "      <th>17</th>\n",
       "      <td>Genres_Rare</td>\n",
       "      <td>-1.106786e+07</td>\n",
       "      <td>1.752285e+07</td>\n",
       "    </tr>\n",
       "    <tr>\n",
       "      <th>14</th>\n",
       "      <td>Content Rating_Everyone</td>\n",
       "      <td>-1.082337e+07</td>\n",
       "      <td>2.449181e+07</td>\n",
       "    </tr>\n",
       "    <tr>\n",
       "      <th>2</th>\n",
       "      <td>days_since_update</td>\n",
       "      <td>-8.727139e+06</td>\n",
       "      <td>1.581264e+07</td>\n",
       "    </tr>\n",
       "    <tr>\n",
       "      <th>10</th>\n",
       "      <td>Size_10.1-20MB</td>\n",
       "      <td>-8.311738e+06</td>\n",
       "      <td>1.711518e+07</td>\n",
       "    </tr>\n",
       "    <tr>\n",
       "      <th>16</th>\n",
       "      <td>Genres_Entertainment</td>\n",
       "      <td>-7.068245e+06</td>\n",
       "      <td>1.623403e+07</td>\n",
       "    </tr>\n",
       "    <tr>\n",
       "      <th>11</th>\n",
       "      <td>Size_30.1-40MB</td>\n",
       "      <td>-6.518903e+06</td>\n",
       "      <td>1.619827e+07</td>\n",
       "    </tr>\n",
       "    <tr>\n",
       "      <th>7</th>\n",
       "      <td>Category_TOOLS</td>\n",
       "      <td>-1.505860e+06</td>\n",
       "      <td>1.593280e+07</td>\n",
       "    </tr>\n",
       "    <tr>\n",
       "      <th>3</th>\n",
       "      <td>Price</td>\n",
       "      <td>-6.999695e+04</td>\n",
       "      <td>1.587709e+07</td>\n",
       "    </tr>\n",
       "    <tr>\n",
       "      <th>1</th>\n",
       "      <td>Rating</td>\n",
       "      <td>3.820602e+06</td>\n",
       "      <td>1.581264e+07</td>\n",
       "    </tr>\n",
       "    <tr>\n",
       "      <th>5</th>\n",
       "      <td>Category_GAME</td>\n",
       "      <td>1.425278e+07</td>\n",
       "      <td>1.431538e+07</td>\n",
       "    </tr>\n",
       "    <tr>\n",
       "      <th>15</th>\n",
       "      <td>Content Rating_Teen</td>\n",
       "      <td>1.533522e+07</td>\n",
       "      <td>1.408495e+07</td>\n",
       "    </tr>\n",
       "    <tr>\n",
       "      <th>13</th>\n",
       "      <td>Type_Free</td>\n",
       "      <td>1.701914e+07</td>\n",
       "      <td>7.308069e+04</td>\n",
       "    </tr>\n",
       "    <tr>\n",
       "      <th>0</th>\n",
       "      <td>Reviews</td>\n",
       "      <td>5.273983e+07</td>\n",
       "      <td>1.581264e+07</td>\n",
       "    </tr>\n",
       "    <tr>\n",
       "      <th>8</th>\n",
       "      <td>Size_Varies with device</td>\n",
       "      <td>5.527373e+07</td>\n",
       "      <td>7.093261e+06</td>\n",
       "    </tr>\n",
       "  </tbody>\n",
       "</table>\n",
       "</div>"
      ],
      "text/plain": [
       "                   variable  coefficients     intercept\n",
       "9             Size_0.1-10MB -2.320462e+07  2.451705e+07\n",
       "18         Genres_Education -1.561648e+07  1.663020e+07\n",
       "6             Category_Rare -1.524437e+07  1.674608e+07\n",
       "4           Category_FAMILY -1.279169e+07  1.814766e+07\n",
       "12           Size_20.1-30MB -1.214223e+07  1.714140e+07\n",
       "17              Genres_Rare -1.106786e+07  1.752285e+07\n",
       "14  Content Rating_Everyone -1.082337e+07  2.449181e+07\n",
       "2         days_since_update -8.727139e+06  1.581264e+07\n",
       "10           Size_10.1-20MB -8.311738e+06  1.711518e+07\n",
       "16     Genres_Entertainment -7.068245e+06  1.623403e+07\n",
       "11           Size_30.1-40MB -6.518903e+06  1.619827e+07\n",
       "7            Category_TOOLS -1.505860e+06  1.593280e+07\n",
       "3                     Price -6.999695e+04  1.587709e+07\n",
       "1                    Rating  3.820602e+06  1.581264e+07\n",
       "5             Category_GAME  1.425278e+07  1.431538e+07\n",
       "15      Content Rating_Teen  1.533522e+07  1.408495e+07\n",
       "13                Type_Free  1.701914e+07  7.308069e+04\n",
       "0                   Reviews  5.273983e+07  1.581264e+07\n",
       "8   Size_Varies with device  5.527373e+07  7.093261e+06"
      ]
     },
     "execution_count": 22,
     "metadata": {},
     "output_type": "execute_result"
    }
   ],
   "source": [
    "lin_reg_analysis.sort_values(\"coefficients\")"
   ]
  },
  {
   "cell_type": "code",
   "execution_count": 24,
   "id": "67ceebfd",
   "metadata": {},
   "outputs": [],
   "source": [
    "lin_reg_analysis.to_csv(\"lin_reg_analysis_low_tol\",index=False)"
   ]
  }
 ],
 "metadata": {
  "kernelspec": {
   "display_name": "Python 3 (ipykernel)",
   "language": "python",
   "name": "python3"
  },
  "language_info": {
   "codemirror_mode": {
    "name": "ipython",
    "version": 3
   },
   "file_extension": ".py",
   "mimetype": "text/x-python",
   "name": "python",
   "nbconvert_exporter": "python",
   "pygments_lexer": "ipython3",
   "version": "3.10.6"
  }
 },
 "nbformat": 4,
 "nbformat_minor": 5
}
