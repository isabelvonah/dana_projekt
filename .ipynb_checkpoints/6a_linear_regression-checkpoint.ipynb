{
 "cells": [
  {
   "cell_type": "code",
   "execution_count": 1,
   "id": "b3423e5d",
   "metadata": {},
   "outputs": [],
   "source": [
    "import pandas as pd\n",
    "import numpy as np\n",
    "from sklearn import linear_model\n",
    "from sklearn.model_selection import cross_val_score\n",
    "from sklearn.model_selection import RepeatedKFold\n",
    "from pygam import LinearGAM, s, f\n",
    "from sklearn.model_selection import train_test_split\n",
    "from sklearn.model_selection import GridSearchCV\n",
    "\n",
    "from sklearn.pipeline import Pipeline\n",
    "import feature_engine.imputation as imp\n",
    "from feature_engine.encoding import OneHotEncoder\n",
    "\n",
    "import matplotlib.pyplot as plt"
   ]
  },
  {
   "cell_type": "code",
   "execution_count": 2,
   "id": "742c3319",
   "metadata": {},
   "outputs": [
    {
     "name": "stdout",
     "output_type": "stream",
     "text": [
      "Shape of X Train: (8672, 19)\n",
      "Shape of X Test: (2168, 19)\n",
      "Shape of y Train: (8672, 1)\n",
      "Shape of y Test: (2168, 1)\n"
     ]
    }
   ],
   "source": [
    "X_train = pd.read_csv(\"Xtrain_feature_sel_low_tol.csv\")\n",
    "X_test = pd.read_csv(\"Xtest_feature_sel_low_tol.csv\")\n",
    "ytrain = pd.read_csv(\"ytrain_mod.csv\")\n",
    "ytest = pd.read_csv(\"ytest_mod.csv\")\n",
    "print(\"Shape of X Train: {}\".format(X_train.shape))\n",
    "print(\"Shape of X Test: {}\".format(X_test.shape))\n",
    "print(\"Shape of y Train: {}\".format(ytrain.shape))\n",
    "print(\"Shape of y Test: {}\".format(ytest.shape))"
   ]
  },
  {
   "cell_type": "code",
   "execution_count": 3,
   "id": "9f092748",
   "metadata": {},
   "outputs": [
    {
     "data": {
      "text/plain": [
       "Reviews                    float64\n",
       "Rating                     float64\n",
       "days_since_update          float64\n",
       "Price                      float64\n",
       "Category_FAMILY              int64\n",
       "Category_GAME                int64\n",
       "Category_Rare                int64\n",
       "Category_TOOLS               int64\n",
       "Size_Varies with device      int64\n",
       "Size_0.1-10MB                int64\n",
       "Size_10.1-20MB               int64\n",
       "Size_30.1-40MB               int64\n",
       "Size_20.1-30MB               int64\n",
       "Type_Free                    int64\n",
       "Content Rating_Everyone      int64\n",
       "Content Rating_Teen          int64\n",
       "Genres_Entertainment         int64\n",
       "Genres_Rare                  int64\n",
       "Genres_Education             int64\n",
       "dtype: object"
      ]
     },
     "execution_count": 3,
     "metadata": {},
     "output_type": "execute_result"
    }
   ],
   "source": [
    "# types of the variables\n",
    "X_train.dtypes"
   ]
  },
  {
   "cell_type": "code",
   "execution_count": 4,
   "id": "8d99a648",
   "metadata": {},
   "outputs": [],
   "source": [
    "variable = \"Size_Varies with device\"\n",
    "\n",
    "# create linear regression\n",
    "regr = linear_model.LinearRegression()\n",
    "# train model using training set\n",
    "reg = regr.fit(X_train[[variable]],ytrain)"
   ]
  },
  {
   "cell_type": "code",
   "execution_count": 5,
   "id": "5fbdca91",
   "metadata": {},
   "outputs": [
    {
     "name": "stdout",
     "output_type": "stream",
     "text": [
      "Coefficients:  [[55273727.54366109]]\n",
      "intercept:  [7093261.27724535]\n"
     ]
    }
   ],
   "source": [
    "# regression coefficients\n",
    "print('Coefficients: ', reg.coef_)\n",
    "# intercept\n",
    "print('intercept: ', reg.intercept_)"
   ]
  },
  {
   "cell_type": "code",
   "execution_count": 11,
   "id": "208e6e4e",
   "metadata": {},
   "outputs": [
    {
     "data": {
      "text/plain": [
       "Text(0, 0.5, 'Installs')"
      ]
     },
     "execution_count": 11,
     "metadata": {},
     "output_type": "execute_result"
    },
    {
     "data": {
      "image/png": "[encoded data removed]",
      "text/plain": [
       "<Figure size 432x288 with 1 Axes>"
      ]
     },
     "metadata": {
      "needs_background": "light"
     },
     "output_type": "display_data"
    }
   ],
   "source": [
    "plt.plot(X_train[[variable]],ytrain,'o')\n",
    "plt.plot(X_train[[variable]],reg.coef_*X_train[[variable]]+reg.intercept_)\n",
    "\n",
    "plt.xlabel(X_train[[variable]].columns[0])\n",
    "plt.ylabel(\"Installs\")"
   ]
  },
  {
   "cell_type": "markdown",
   "id": "b9b2413e",
   "metadata": {},
   "source": [
    "# Go through all variables"
   ]
  },
  {
   "cell_type": "code",
   "execution_count": null,
   "id": "2db588bf",
   "metadata": {},
   "outputs": [],
   "source": []
  }
 ],
 "metadata": {
  "kernelspec": {
   "display_name": "Python 3 (ipykernel)",
   "language": "python",
   "name": "python3"
  },
  "language_info": {
   "codemirror_mode": {
    "name": "ipython",
    "version": 3
   },
   "file_extension": ".py",
   "mimetype": "text/x-python",
   "name": "python",
   "nbconvert_exporter": "python",
   "pygments_lexer": "ipython3",
   "version": "3.10.6"
  }
 },
 "nbformat": 4,
 "nbformat_minor": 5
}
